{
  "nbformat": 4,
  "nbformat_minor": 0,
  "metadata": {
    "colab": {
      "name": "mnist on the line 7mored (10)",
      "provenance": [],
      "collapsed_sections": []
    },
    "kernelspec": {
      "name": "python3",
      "display_name": "Python 3"
    }
  },
  "cells": [
    {
      "cell_type": "markdown",
      "metadata": {
        "id": "ZzPU36WEDsqa"
      },
      "source": [
        "very loosely based on https://keras.io/examples/vision/mnist_convnet/"
      ]
    },
    {
      "cell_type": "code",
      "metadata": {
        "id": "3iB5wvjpWexF"
      },
      "source": [
        "outdim=10"
      ],
      "execution_count": null,
      "outputs": []
    },
    {
      "cell_type": "code",
      "metadata": {
        "id": "HRhV-0piDPyl"
      },
      "source": [
        "import numpy as np\n",
        "from tensorflow import keras\n",
        "from tensorflow.keras import layers\n",
        "from tensorflow.keras import backend as K"
      ],
      "execution_count": null,
      "outputs": []
    },
    {
      "cell_type": "code",
      "metadata": {
        "colab": {
          "base_uri": "https://localhost:8080/"
        },
        "id": "OpkCj5gZDZxP",
        "outputId": "8898c15f-e8b4-44b7-ddf2-76732ceb1ecc"
      },
      "source": [
        "# Model / data parameters\n",
        "num_classes = 10\n",
        "input_shape = (28, 28, 1)\n",
        "\n",
        "# the data, split between train and test sets\n",
        "(x_train, y_train), (x_test, y_test) = keras.datasets.mnist.load_data()\n",
        "\n",
        "# Scale images to the [0, 1] range\n",
        "x_train = x_train.astype(\"float32\") / 255\n",
        "x_test = x_test.astype(\"float32\") / 255\n",
        "# Make sure images have shape (28, 28, 1)\n",
        "bx_train = np.expand_dims(x_train, -1)\n",
        "bx_test = np.expand_dims(x_test, -1)\n",
        "print(\"x_train shape:\", bx_train.shape)\n",
        "print(bx_train.shape[0], \"train samples\")\n",
        "print(bx_test.shape[0], \"test samples\")\n",
        "\n",
        "\n",
        "# convert class vectors to binary class matrices\n",
        "by_train = keras.utils.to_categorical(y_train, num_classes)\n",
        "by_test = keras.utils.to_categorical(y_test, num_classes)"
      ],
      "execution_count": null,
      "outputs": [
        {
          "output_type": "stream",
          "text": [
            "x_train shape: (60000, 28, 28, 1)\n",
            "60000 train samples\n",
            "10000 test samples\n"
          ],
          "name": "stdout"
        }
      ]
    },
    {
      "cell_type": "code",
      "metadata": {
        "colab": {
          "base_uri": "https://localhost:8080/"
        },
        "id": "Hjhm1Q8lIBs2",
        "outputId": "aa604d78-8241-433c-872b-727c2c830299"
      },
      "source": [
        "classes=[0,1]\n",
        "x_train=np.array(\n",
        "    [xx for xx,yy in zip(bx_train,by_train) if\n",
        "      np.any([yy[cc] for cc in classes])\n",
        "    ])\n",
        "y_train=np.array([yy for yy in by_train if np.any([yy[cc] for cc in classes])])\n",
        "print(x_train.shape)\n",
        "print(y_train.shape)\n",
        "\n",
        "xa_test=np.array(\n",
        "    [xx for xx,yy in zip(bx_test,by_test) if\n",
        "      not np.any([yy[cc] for cc in classes])\n",
        "    ])\n",
        "ya_test=np.array([yy for yy in by_test if not np.any([yy[cc] for cc in classes])])\n",
        "print(xa_test.shape)\n",
        "print(ya_test.shape)\n",
        "xn_test=np.array(\n",
        "    [xx for xx,yy in zip(bx_test,by_test) if\n",
        "      np.any([yy[cc] for cc in classes])\n",
        "    ])\n",
        "yn_test=np.array([yy for yy in by_test if np.any([yy[cc] for cc in classes])])\n",
        "print(xn_test.shape)\n",
        "print(yn_test.shape)\n",
        "\n"
      ],
      "execution_count": null,
      "outputs": [
        {
          "output_type": "stream",
          "text": [
            "(12665, 28, 28, 1)\n",
            "(12665, 10)\n",
            "(7885, 28, 28, 1)\n",
            "(7885, 10)\n",
            "(2115, 28, 28, 1)\n",
            "(2115, 10)\n"
          ],
          "name": "stdout"
        }
      ]
    },
    {
      "cell_type": "code",
      "metadata": {
        "id": "jJz0agqiQuYp"
      },
      "source": [
        "def loss(outdim):\n",
        "    if outdim==1:\n",
        "        def lss(a,b):\n",
        "            q=b\n",
        "            return K.mean((q-1)**2)\n",
        "        return lss\n",
        "    def lss(a,b):\n",
        "        q=b\n",
        "        pd=[i for i in range(len(q.shape))]\n",
        "        pd.remove(pd[-1])\n",
        "        pd.insert(0,len(pd))\n",
        "        #print(pd)\n",
        "        q=K.permute_dimensions(q,tuple(pd))\n",
        "        #exit()\n",
        "\n",
        "        #print(q.shape)\n",
        "\n",
        "        adl=None\n",
        "\n",
        "        for i in range(outdim):\n",
        "            for j in range(i+1,outdim):\n",
        "              ac=K.abs(K.mean(((q[i]-1)*(q[j]-1))))\n",
        "              if adl is None:\n",
        "                  adl=ac\n",
        "              else:\n",
        "                  adl+=ac\n",
        "\n",
        "        return adl\n",
        "    return lss"
      ],
      "execution_count": null,
      "outputs": []
    },
    {
      "cell_type": "code",
      "metadata": {
        "id": "cguVrdVrEtLl",
        "colab": {
          "base_uri": "https://localhost:8080/"
        },
        "outputId": "dfdee0e8-d5c9-495c-c56d-f987fe9dd5e9"
      },
      "source": [
        "model = keras.Sequential(\n",
        "    [\n",
        "        keras.Input(shape=input_shape),\n",
        "        layers.Conv2D(32, kernel_size=(7, 7), activation=\"relu\",use_bias=False),\n",
        "        layers.MaxPooling2D(pool_size=(2, 2)),\n",
        "        layers.Conv2D(64, kernel_size=(4, 4), activation=\"relu\",use_bias=False),\n",
        "        layers.Conv2D(16, kernel_size=(4, 4), activation=\"relu\",use_bias=False),\n",
        "        layers.Conv2D(4, kernel_size=(2, 2), activation=\"relu\",use_bias=False),\n",
        "        layers.MaxPooling2D(pool_size=(2, 2)),\n",
        "        layers.Conv2D(4,kernel_size=(1,1),activation=\"linear\",padding=\"same\",use_bias=False),\n",
        "        layers.Flatten(),\n",
        "        layers.Dense(outdim,use_bias=False)\n",
        "    ]\n",
        ")\n",
        "\n",
        "model.summary()"
      ],
      "execution_count": null,
      "outputs": [
        {
          "output_type": "stream",
          "text": [
            "WARNING:tensorflow:Please add `keras.layers.InputLayer` instead of `keras.Input` to Sequential model. `keras.Input` is intended to be used by Functional model.\n",
            "Model: \"sequential\"\n",
            "_________________________________________________________________\n",
            "Layer (type)                 Output Shape              Param #   \n",
            "=================================================================\n",
            "conv2d (Conv2D)              (None, 22, 22, 32)        1568      \n",
            "_________________________________________________________________\n",
            "max_pooling2d (MaxPooling2D) (None, 11, 11, 32)        0         \n",
            "_________________________________________________________________\n",
            "conv2d_1 (Conv2D)            (None, 8, 8, 64)          32768     \n",
            "_________________________________________________________________\n",
            "conv2d_2 (Conv2D)            (None, 5, 5, 16)          16384     \n",
            "_________________________________________________________________\n",
            "conv2d_3 (Conv2D)            (None, 4, 4, 4)           256       \n",
            "_________________________________________________________________\n",
            "max_pooling2d_1 (MaxPooling2 (None, 2, 2, 4)           0         \n",
            "_________________________________________________________________\n",
            "conv2d_4 (Conv2D)            (None, 2, 2, 4)           16        \n",
            "_________________________________________________________________\n",
            "flatten (Flatten)            (None, 16)                0         \n",
            "_________________________________________________________________\n",
            "dense (Dense)                (None, 10)                160       \n",
            "=================================================================\n",
            "Total params: 51,152\n",
            "Trainable params: 51,152\n",
            "Non-trainable params: 0\n",
            "_________________________________________________________________\n"
          ],
          "name": "stdout"
        }
      ]
    },
    {
      "cell_type": "code",
      "metadata": {
        "id": "9qbpq3qAEfy9",
        "colab": {
          "base_uri": "https://localhost:8080/"
        },
        "outputId": "bde7b774-ade8-4551-96c6-7507e7a704ac"
      },
      "source": [
        "batch_size = 128\n",
        "epochs = 5\n",
        "\n",
        "model.compile(loss=loss(outdim), optimizer=\"adam\", metrics=[])\n",
        "\n",
        "model.fit(x_train,\n",
        "          np.ones_like(x_train),\n",
        "          batch_size=batch_size,\n",
        "          epochs=epochs,\n",
        "          validation_split=0.1)"
      ],
      "execution_count": null,
      "outputs": [
        {
          "output_type": "stream",
          "text": [
            "Epoch 1/5\n",
            "90/90 [==============================] - 17s 139ms/step - loss: 5.7754 - val_loss: 0.7279\n",
            "Epoch 2/5\n",
            "90/90 [==============================] - 12s 130ms/step - loss: 0.2804 - val_loss: 0.2665\n",
            "Epoch 3/5\n",
            "90/90 [==============================] - 12s 128ms/step - loss: 0.1186 - val_loss: 0.1535\n",
            "Epoch 4/5\n",
            "90/90 [==============================] - 12s 129ms/step - loss: 0.0648 - val_loss: 0.0647\n",
            "Epoch 5/5\n",
            "90/90 [==============================] - 12s 128ms/step - loss: 0.0352 - val_loss: 0.0292\n"
          ],
          "name": "stdout"
        },
        {
          "output_type": "execute_result",
          "data": {
            "text/plain": [
              "<tensorflow.python.keras.callbacks.History at 0x7fe1babd5310>"
            ]
          },
          "metadata": {
            "tags": []
          },
          "execution_count": 7
        }
      ]
    },
    {
      "cell_type": "code",
      "metadata": {
        "id": "OKQ91orUVHAz"
      },
      "source": [
        "pa=model.predict(xa_test)\n",
        "pn=model.predict(xn_test)"
      ],
      "execution_count": null,
      "outputs": []
    },
    {
      "cell_type": "code",
      "metadata": {
        "id": "q8u_q-lpqWcL",
        "colab": {
          "base_uri": "https://localhost:8080/"
        },
        "outputId": "70b218c0-ec7a-4975-f53b-c321ab526ef9"
      },
      "source": [
        "print(pa.shape)\n",
        "print(pn.shape)"
      ],
      "execution_count": null,
      "outputs": [
        {
          "output_type": "stream",
          "text": [
            "(7885, 10)\n",
            "(2115, 10)\n"
          ],
          "name": "stdout"
        }
      ]
    },
    {
      "cell_type": "code",
      "metadata": {
        "id": "54W8twtNQj3_",
        "colab": {
          "base_uri": "https://localhost:8080/",
          "height": 268
        },
        "outputId": "06ee2134-dc0d-4333-8b25-c1874192f6f4"
      },
      "source": [
        "import matplotlib.pyplot as plt\n",
        "plt.hist(pn,bins=25,alpha=0.5,label=\"normal\",density=True)\n",
        "plt.hist(pa,bins=25,alpha=0.5,label=\"abnorm\",density=True)\n",
        "plt.legend()\n",
        "plt.show()"
      ],
      "execution_count": null,
      "outputs": [
        {
          "output_type": "display_data",
          "data": {
            "image/png": "[encoded data removed]",
            "text/plain": [
              "<Figure size 432x288 with 1 Axes>"
            ]
          },
          "metadata": {
            "tags": [],
            "needs_background": "light"
          }
        }
      ]
    },
    {
      "cell_type": "code",
      "metadata": {
        "id": "2TL9SwQIRThk",
        "colab": {
          "base_uri": "https://localhost:8080/"
        },
        "outputId": "091ef813-8bb6-4045-fd6d-c2ab66bb9021"
      },
      "source": [
        "def dexbyloss(lss):return np.argmin(np.mean((pn-lss)**2,axis=1))\n",
        "minl=np.min(pn,axis=0)\n",
        "maxl=np.max(pn,axis=0)\n",
        "print(minl,maxl)\n",
        "ls=[np.arange(aminl,amaxl,(amaxl-aminl)/9.0001) for aminl,amaxl in zip(minl,maxl)]\n",
        "print(minl,ls,maxl)\n",
        "print(len(ls))"
      ],
      "execution_count": null,
      "outputs": [
        {
          "output_type": "stream",
          "text": [
            "[0.78230304 0.640278   0.7470581  0.766986   0.59240264 0.71408063\n",
            " 0.64362425 0.7033523  0.67650837 0.745955  ] [1.1733088 1.1117902 1.2126875 1.1937423 1.1968154 1.2353951 1.1707721\n",
            " 1.1548833 1.1603166 1.1644418]\n",
            "[0.78230304 0.640278   0.7470581  0.766986   0.59240264 0.71408063\n",
            " 0.64362425 0.7033523  0.67650837 0.745955  ] [array([0.78230304, 0.82574764, 0.86919225, 0.91263686, 0.95608147,\n",
            "       0.99952607, 1.04297068, 1.08641529, 1.1298599 , 1.1733045 ]), array([0.64027798, 0.69266764, 0.74505731, 0.79744697, 0.84983663,\n",
            "       0.90222629, 0.95461595, 1.00700562, 1.05939528, 1.11178494]), array([0.74705809, 0.79879412, 0.85053014, 0.90226617, 0.95400219,\n",
            "       1.00573822, 1.05747424, 1.10921027, 1.16094629, 1.21268232]), array([0.76698601, 0.81440285, 0.86181968, 0.90923652, 0.95665336,\n",
            "       1.00407019, 1.05148703, 1.09890386, 1.1463207 , 1.19373753]), array([0.59240264, 0.65955886, 0.72671509, 0.79387131, 0.86102753,\n",
            "       0.92818376, 0.99533998, 1.06249621, 1.12965243, 1.19680866]), array([0.71408063, 0.77200382, 0.829927  , 0.88785018, 0.94577336,\n",
            "       1.00369655, 1.06161973, 1.11954291, 1.1774661 , 1.23538928]), array([0.64362425, 0.70219558, 0.76076691, 0.81933824, 0.87790957,\n",
            "       0.9364809 , 0.99505223, 1.05362356, 1.11219489, 1.17076622]), array([0.70335227, 0.75352183, 0.80369138, 0.85386093, 0.90403048,\n",
            "       0.95420004, 1.00436959, 1.05453914, 1.1047087 , 1.15487825]), array([0.67650837, 0.73026424, 0.78402011, 0.83777598, 0.89153185,\n",
            "       0.94528772, 0.9990436 , 1.05279947, 1.10655534, 1.16031121]), array([0.74595499, 0.79245301, 0.83895103, 0.88544905, 0.93194707,\n",
            "       0.97844509, 1.02494311, 1.07144113, 1.11793915, 1.16443717])] [1.1733088 1.1117902 1.2126875 1.1937423 1.1968154 1.2353951 1.1707721\n",
            " 1.1548833 1.1603166 1.1644418]\n",
            "10\n"
          ],
          "name": "stdout"
        }
      ]
    },
    {
      "cell_type": "code",
      "metadata": {
        "id": "ezJUTwnCta3j"
      },
      "source": [
        "def moduloop(q,modulo=1):\n",
        "  i,j=0,0\n",
        "  while True:\n",
        "    yield q[i]\n",
        "    j+=1\n",
        "    if not (j%modulo):\n",
        "      i+=1\n",
        "      i=i%len(q)\n",
        "\n",
        "def allcomb(q):\n",
        "  modulo=1\n",
        "  iterators=[]\n",
        "  for zw in q:\n",
        "    iterators.append(moduloop(zw,modulo))\n",
        "    modulo*=len(zw)\n",
        "  for i in range(modulo):\n",
        "      yield [zw.__next__() for zw in iterators]\n"
      ],
      "execution_count": null,
      "outputs": []
    },
    {
      "cell_type": "code",
      "metadata": {
        "id": "M-6o99TjSJIs",
        "colab": {
          "base_uri": "https://localhost:8080/",
          "height": 370
        },
        "outputId": "e95c3d3c-6f4a-4129-f3e0-825d5d67beb3"
      },
      "source": [
        "from tqdm import tqdm\n",
        "bids=[[0,1,2,3,4,5,6,7,8,9] for zw in ls]\n",
        "\n",
        "\n",
        "\n",
        "\n",
        "x,y=[],[]\n",
        "\n",
        "for bid,lss in tqdm(zip(allcomb(bids),allcomb(ls)),total=10**outdim):\n",
        "  x.append(bid)\n",
        "  y.append(dexbyloss(lss))\n",
        "\n",
        "x=np.array(x)\n",
        "y=np.array(y)\n",
        "\n",
        "cls=np.array([np.argmax(yn_test[yy]) for yy in tqdm(y,total=10**outdim)])\n",
        "\n",
        "print(x.shape,y.shape,cls.shape)\n",
        "\n"
      ],
      "execution_count": null,
      "outputs": [
        {
          "output_type": "stream",
          "text": [
            "  0%|          | 95278/10000000000 [00:14<411:49:38, 6744.94it/s]"
          ],
          "name": "stderr"
        },
        {
          "output_type": "error",
          "ename": "KeyboardInterrupt",
          "evalue": "ignored",
          "traceback": [
            "\u001b[0;31m---------------------------------------------------------------------------\u001b[0m",
            "\u001b[0;31mKeyboardInterrupt\u001b[0m                         Traceback (most recent call last)",
            "\u001b[0;32m<ipython-input-16-35869eb43a95>\u001b[0m in \u001b[0;36m<module>\u001b[0;34m()\u001b[0m\n\u001b[1;32m      9\u001b[0m \u001b[0;32mfor\u001b[0m \u001b[0mbid\u001b[0m\u001b[0;34m,\u001b[0m\u001b[0mlss\u001b[0m \u001b[0;32min\u001b[0m \u001b[0mtqdm\u001b[0m\u001b[0;34m(\u001b[0m\u001b[0mzip\u001b[0m\u001b[0;34m(\u001b[0m\u001b[0mallcomb\u001b[0m\u001b[0;34m(\u001b[0m\u001b[0mbids\u001b[0m\u001b[0;34m)\u001b[0m\u001b[0;34m,\u001b[0m\u001b[0mallcomb\u001b[0m\u001b[0;34m(\u001b[0m\u001b[0mls\u001b[0m\u001b[0;34m)\u001b[0m\u001b[0;34m)\u001b[0m\u001b[0;34m,\u001b[0m\u001b[0mtotal\u001b[0m\u001b[0;34m=\u001b[0m\u001b[0;36m10\u001b[0m\u001b[0;34m**\u001b[0m\u001b[0moutdim\u001b[0m\u001b[0;34m)\u001b[0m\u001b[0;34m:\u001b[0m\u001b[0;34m\u001b[0m\u001b[0;34m\u001b[0m\u001b[0m\n\u001b[1;32m     10\u001b[0m   \u001b[0mx\u001b[0m\u001b[0;34m.\u001b[0m\u001b[0mappend\u001b[0m\u001b[0;34m(\u001b[0m\u001b[0mbid\u001b[0m\u001b[0;34m)\u001b[0m\u001b[0;34m\u001b[0m\u001b[0;34m\u001b[0m\u001b[0m\n\u001b[0;32m---> 11\u001b[0;31m   \u001b[0my\u001b[0m\u001b[0;34m.\u001b[0m\u001b[0mappend\u001b[0m\u001b[0;34m(\u001b[0m\u001b[0mdexbyloss\u001b[0m\u001b[0;34m(\u001b[0m\u001b[0mlss\u001b[0m\u001b[0;34m)\u001b[0m\u001b[0;34m)\u001b[0m\u001b[0;34m\u001b[0m\u001b[0;34m\u001b[0m\u001b[0m\n\u001b[0m\u001b[1;32m     12\u001b[0m \u001b[0;34m\u001b[0m\u001b[0m\n\u001b[1;32m     13\u001b[0m \u001b[0mx\u001b[0m\u001b[0;34m=\u001b[0m\u001b[0mnp\u001b[0m\u001b[0;34m.\u001b[0m\u001b[0marray\u001b[0m\u001b[0;34m(\u001b[0m\u001b[0mx\u001b[0m\u001b[0;34m)\u001b[0m\u001b[0;34m\u001b[0m\u001b[0;34m\u001b[0m\u001b[0m\n",
            "\u001b[0;32m<ipython-input-11-150e01d0b3d4>\u001b[0m in \u001b[0;36mdexbyloss\u001b[0;34m(lss)\u001b[0m\n\u001b[0;32m----> 1\u001b[0;31m \u001b[0;32mdef\u001b[0m \u001b[0mdexbyloss\u001b[0m\u001b[0;34m(\u001b[0m\u001b[0mlss\u001b[0m\u001b[0;34m)\u001b[0m\u001b[0;34m:\u001b[0m\u001b[0;32mreturn\u001b[0m \u001b[0mnp\u001b[0m\u001b[0;34m.\u001b[0m\u001b[0margmin\u001b[0m\u001b[0;34m(\u001b[0m\u001b[0mnp\u001b[0m\u001b[0;34m.\u001b[0m\u001b[0mmean\u001b[0m\u001b[0;34m(\u001b[0m\u001b[0;34m(\u001b[0m\u001b[0mpn\u001b[0m\u001b[0;34m-\u001b[0m\u001b[0mlss\u001b[0m\u001b[0;34m)\u001b[0m\u001b[0;34m**\u001b[0m\u001b[0;36m2\u001b[0m\u001b[0;34m,\u001b[0m\u001b[0maxis\u001b[0m\u001b[0;34m=\u001b[0m\u001b[0;36m1\u001b[0m\u001b[0;34m)\u001b[0m\u001b[0;34m)\u001b[0m\u001b[0;34m\u001b[0m\u001b[0;34m\u001b[0m\u001b[0m\n\u001b[0m\u001b[1;32m      2\u001b[0m \u001b[0mminl\u001b[0m\u001b[0;34m=\u001b[0m\u001b[0mnp\u001b[0m\u001b[0;34m.\u001b[0m\u001b[0mmin\u001b[0m\u001b[0;34m(\u001b[0m\u001b[0mpn\u001b[0m\u001b[0;34m,\u001b[0m\u001b[0maxis\u001b[0m\u001b[0;34m=\u001b[0m\u001b[0;36m0\u001b[0m\u001b[0;34m)\u001b[0m\u001b[0;34m\u001b[0m\u001b[0;34m\u001b[0m\u001b[0m\n\u001b[1;32m      3\u001b[0m \u001b[0mmaxl\u001b[0m\u001b[0;34m=\u001b[0m\u001b[0mnp\u001b[0m\u001b[0;34m.\u001b[0m\u001b[0mmax\u001b[0m\u001b[0;34m(\u001b[0m\u001b[0mpn\u001b[0m\u001b[0;34m,\u001b[0m\u001b[0maxis\u001b[0m\u001b[0;34m=\u001b[0m\u001b[0;36m0\u001b[0m\u001b[0;34m)\u001b[0m\u001b[0;34m\u001b[0m\u001b[0;34m\u001b[0m\u001b[0m\n\u001b[1;32m      4\u001b[0m \u001b[0mprint\u001b[0m\u001b[0;34m(\u001b[0m\u001b[0mminl\u001b[0m\u001b[0;34m,\u001b[0m\u001b[0mmaxl\u001b[0m\u001b[0;34m)\u001b[0m\u001b[0;34m\u001b[0m\u001b[0;34m\u001b[0m\u001b[0m\n\u001b[1;32m      5\u001b[0m \u001b[0mls\u001b[0m\u001b[0;34m=\u001b[0m\u001b[0;34m[\u001b[0m\u001b[0mnp\u001b[0m\u001b[0;34m.\u001b[0m\u001b[0marange\u001b[0m\u001b[0;34m(\u001b[0m\u001b[0maminl\u001b[0m\u001b[0;34m,\u001b[0m\u001b[0mamaxl\u001b[0m\u001b[0;34m,\u001b[0m\u001b[0;34m(\u001b[0m\u001b[0mamaxl\u001b[0m\u001b[0;34m-\u001b[0m\u001b[0maminl\u001b[0m\u001b[0;34m)\u001b[0m\u001b[0;34m/\u001b[0m\u001b[0;36m9.0001\u001b[0m\u001b[0;34m)\u001b[0m \u001b[0;32mfor\u001b[0m \u001b[0maminl\u001b[0m\u001b[0;34m,\u001b[0m\u001b[0mamaxl\u001b[0m \u001b[0;32min\u001b[0m \u001b[0mzip\u001b[0m\u001b[0;34m(\u001b[0m\u001b[0mminl\u001b[0m\u001b[0;34m,\u001b[0m\u001b[0mmaxl\u001b[0m\u001b[0;34m)\u001b[0m\u001b[0;34m]\u001b[0m\u001b[0;34m\u001b[0m\u001b[0;34m\u001b[0m\u001b[0m\n",
            "\u001b[0;31mKeyboardInterrupt\u001b[0m: "
          ]
        }
      ]
    },
    {
      "cell_type": "code",
      "metadata": {
        "id": "G-6EJbPtSdd0"
      },
      "source": [
        "for dim in range(outdim):\n",
        "  mns,stds=[],[]\n",
        "  for val in range(10):\n",
        "    dex=np.where(x[:,dim]==val)\n",
        "    vals=cls[dex]\n",
        "    mn=np.mean(vals)\n",
        "    std=np.std(vals)/np.sqrt(len(vals))\n",
        "    mns.append(mn)\n",
        "    stds.append(std)\n",
        "    #print(f\"x{dim}={val}:{mn}+-{std}\")\n",
        "  plt.errorbar(range(10),mns,yerr=stds,label=dim,alpha=0.6)\n",
        "plt.legend()\n",
        "plt.show()"
      ],
      "execution_count": null,
      "outputs": []
    },
    {
      "cell_type": "code",
      "metadata": {
        "id": "qC-5kEXZoz4m"
      },
      "source": [
        "p=model.predict(x_train)\n"
      ],
      "execution_count": null,
      "outputs": []
    },
    {
      "cell_type": "code",
      "metadata": {
        "id": "WeggvG1vaX_a",
        "colab": {
          "base_uri": "https://localhost:8080/"
        },
        "outputId": "f3da9118-299f-4e73-b2a7-8b6c2842e955"
      },
      "source": [
        "mp=np.mean(p,axis=0)\n",
        "da=np.abs(pa-mp)\n",
        "dn=np.abs(pn-mp)\n",
        "dfa=np.sqrt(np.mean(da**2,axis=1))\n",
        "dfn=np.sqrt(np.mean(dn**2,axis=1))\n",
        "print(dfa.shape,dfn.shape)"
      ],
      "execution_count": null,
      "outputs": [
        {
          "output_type": "stream",
          "text": [
            "(7885,) (2115,)\n"
          ],
          "name": "stdout"
        }
      ]
    },
    {
      "cell_type": "code",
      "metadata": {
        "id": "74pcqtEuomht",
        "colab": {
          "base_uri": "https://localhost:8080/"
        },
        "outputId": "1890c605-4006-4665-ed30-bd2bad7dc140"
      },
      "source": [
        "print(\"normal\",np.mean(dfn),np.std(dfn))\n",
        "print(\"abnorm\",np.mean(dfa),np.std(dfa))"
      ],
      "execution_count": null,
      "outputs": [
        {
          "output_type": "stream",
          "text": [
            "normal 0.03874363 0.020849748\n",
            "abnorm 0.044746097 0.021427866\n"
          ],
          "name": "stdout"
        }
      ]
    },
    {
      "cell_type": "code",
      "metadata": {
        "id": "UsNvCJXYorqX",
        "colab": {
          "base_uri": "https://localhost:8080/",
          "height": 265
        },
        "outputId": "69f11445-30c3-4e1b-f069-b1eb0df2d2d0"
      },
      "source": [
        "plt.hist(dfn,bins=25,alpha=0.5,label=\"normal\",density=True)\n",
        "plt.hist(dfa,bins=25,alpha=0.5,label=\"abnorm\",density=True)\n",
        "plt.legend()\n",
        "plt.show()"
      ],
      "execution_count": null,
      "outputs": [
        {
          "output_type": "display_data",
          "data": {
            "image/png": "[encoded data removed]",
            "text/plain": [
              "<Figure size 432x288 with 1 Axes>"
            ]
          },
          "metadata": {
            "tags": [],
            "needs_background": "light"
          }
        }
      ]
    },
    {
      "cell_type": "code",
      "metadata": {
        "id": "XNHbWu2hpEo-",
        "colab": {
          "base_uri": "https://localhost:8080/"
        },
        "outputId": "71f9c831-71e0-4ff9-ead6-f831fdd1a0db"
      },
      "source": [
        "y_score=np.concatenate((dfn,dfa),axis=0)\n",
        "y_true=np.concatenate((np.zeros_like(dfn),np.ones_like(dfa)),axis=0)\n",
        "\n",
        "print(y_true.shape,y_score.shape)"
      ],
      "execution_count": null,
      "outputs": [
        {
          "output_type": "stream",
          "text": [
            "(10000,) (10000,)\n"
          ],
          "name": "stdout"
        }
      ]
    },
    {
      "cell_type": "code",
      "metadata": {
        "id": "E7U2nXJdqXG6",
        "colab": {
          "base_uri": "https://localhost:8080/"
        },
        "outputId": "58ff5bdb-ae51-46a6-d567-e728bf23b500"
      },
      "source": [
        "from sklearn.metrics import roc_auc_score as rauc\n",
        "\n",
        "auc=rauc(y_true,y_score)\n",
        "print(auc)"
      ],
      "execution_count": null,
      "outputs": [
        {
          "output_type": "stream",
          "text": [
            "0.602185254643059\n"
          ],
          "name": "stdout"
        }
      ]
    },
    {
      "cell_type": "code",
      "metadata": {
        "id": "Ga6UNtw7qj-x"
      },
      "source": [
        ""
      ],
      "execution_count": null,
      "outputs": []
    }
  ]
}