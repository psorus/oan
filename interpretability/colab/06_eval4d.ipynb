{
  "nbformat": 4,
  "nbformat_minor": 0,
  "metadata": {
    "colab": {
      "name": "mnist on the line 6mored (4)",
      "provenance": [],
      "collapsed_sections": []
    },
    "kernelspec": {
      "name": "python3",
      "display_name": "Python 3"
    }
  },
  "cells": [
    {
      "cell_type": "markdown",
      "metadata": {
        "id": "ZzPU36WEDsqa"
      },
      "source": [
        "very loosely based on https://keras.io/examples/vision/mnist_convnet/"
      ]
    },
    {
      "cell_type": "code",
      "metadata": {
        "id": "3iB5wvjpWexF"
      },
      "source": [
        "outdim=4"
      ],
      "execution_count": null,
      "outputs": []
    },
    {
      "cell_type": "code",
      "metadata": {
        "id": "HRhV-0piDPyl"
      },
      "source": [
        "import numpy as np\n",
        "from tensorflow import keras\n",
        "from tensorflow.keras import layers\n",
        "from tensorflow.keras import backend as K"
      ],
      "execution_count": null,
      "outputs": []
    },
    {
      "cell_type": "code",
      "metadata": {
        "colab": {
          "base_uri": "https://localhost:8080/"
        },
        "id": "OpkCj5gZDZxP",
        "outputId": "5519f100-a974-4a6b-98b3-f149a0dc190e"
      },
      "source": [
        "# Model / data parameters\n",
        "num_classes = 10\n",
        "input_shape = (28, 28, 1)\n",
        "\n",
        "# the data, split between train and test sets\n",
        "(x_train, y_train), (x_test, y_test) = keras.datasets.mnist.load_data()\n",
        "\n",
        "# Scale images to the [0, 1] range\n",
        "x_train = x_train.astype(\"float32\") / 255\n",
        "x_test = x_test.astype(\"float32\") / 255\n",
        "# Make sure images have shape (28, 28, 1)\n",
        "bx_train = np.expand_dims(x_train, -1)\n",
        "bx_test = np.expand_dims(x_test, -1)\n",
        "print(\"x_train shape:\", bx_train.shape)\n",
        "print(bx_train.shape[0], \"train samples\")\n",
        "print(bx_test.shape[0], \"test samples\")\n",
        "\n",
        "\n",
        "# convert class vectors to binary class matrices\n",
        "by_train = keras.utils.to_categorical(y_train, num_classes)\n",
        "by_test = keras.utils.to_categorical(y_test, num_classes)"
      ],
      "execution_count": null,
      "outputs": [
        {
          "output_type": "stream",
          "text": [
            "Downloading data from https://storage.googleapis.com/tensorflow/tf-keras-datasets/mnist.npz\n",
            "11493376/11490434 [==============================] - 0s 0us/step\n",
            "x_train shape: (60000, 28, 28, 1)\n",
            "60000 train samples\n",
            "10000 test samples\n"
          ],
          "name": "stdout"
        }
      ]
    },
    {
      "cell_type": "code",
      "metadata": {
        "colab": {
          "base_uri": "https://localhost:8080/"
        },
        "id": "Hjhm1Q8lIBs2",
        "outputId": "d3d3e80e-c154-4d2b-e2d9-d646c7d69f7e"
      },
      "source": [
        "classes=[0,1]\n",
        "x_train=np.array(\n",
        "    [xx for xx,yy in zip(bx_train,by_train) if\n",
        "      np.any([yy[cc] for cc in classes])\n",
        "    ])\n",
        "y_train=np.array([yy for yy in by_train if np.any([yy[cc] for cc in classes])])\n",
        "print(x_train.shape)\n",
        "print(y_train.shape)\n",
        "\n",
        "xa_test=np.array(\n",
        "    [xx for xx,yy in zip(bx_test,by_test) if\n",
        "      not np.any([yy[cc] for cc in classes])\n",
        "    ])\n",
        "ya_test=np.array([yy for yy in by_test if not np.any([yy[cc] for cc in classes])])\n",
        "print(xa_test.shape)\n",
        "print(ya_test.shape)\n",
        "xn_test=np.array(\n",
        "    [xx for xx,yy in zip(bx_test,by_test) if\n",
        "      np.any([yy[cc] for cc in classes])\n",
        "    ])\n",
        "yn_test=np.array([yy for yy in by_test if np.any([yy[cc] for cc in classes])])\n",
        "print(xn_test.shape)\n",
        "print(yn_test.shape)\n",
        "\n"
      ],
      "execution_count": null,
      "outputs": [
        {
          "output_type": "stream",
          "text": [
            "(12665, 28, 28, 1)\n",
            "(12665, 10)\n",
            "(7885, 28, 28, 1)\n",
            "(7885, 10)\n",
            "(2115, 28, 28, 1)\n",
            "(2115, 10)\n"
          ],
          "name": "stdout"
        }
      ]
    },
    {
      "cell_type": "code",
      "metadata": {
        "id": "jJz0agqiQuYp"
      },
      "source": [
        "def loss(outdim):\n",
        "    if outdim==1:\n",
        "        def lss(a,b):\n",
        "            q=b\n",
        "            return K.mean((q-1)**2)\n",
        "        return lss\n",
        "    def lss(a,b):\n",
        "        q=b\n",
        "        pd=[i for i in range(len(q.shape))]\n",
        "        pd.remove(pd[-1])\n",
        "        pd.insert(0,len(pd))\n",
        "        #print(pd)\n",
        "        q=K.permute_dimensions(q,tuple(pd))\n",
        "        #exit()\n",
        "\n",
        "        #print(q.shape)\n",
        "\n",
        "        adl=None\n",
        "\n",
        "        for i in range(outdim):\n",
        "            for j in range(i+1,outdim):\n",
        "              ac=K.abs(K.mean(((q[i]-1)*(q[j]-1))))\n",
        "              if adl is None:\n",
        "                  adl=ac\n",
        "              else:\n",
        "                  adl+=ac\n",
        "\n",
        "        return adl\n",
        "    return lss"
      ],
      "execution_count": null,
      "outputs": []
    },
    {
      "cell_type": "code",
      "metadata": {
        "id": "cguVrdVrEtLl",
        "colab": {
          "base_uri": "https://localhost:8080/"
        },
        "outputId": "8f668e0a-1853-44fc-d7a2-f67904f17b8e"
      },
      "source": [
        "model = keras.Sequential(\n",
        "    [\n",
        "        keras.Input(shape=input_shape),\n",
        "        layers.Conv2D(32, kernel_size=(7, 7), activation=\"relu\",use_bias=False),\n",
        "        layers.MaxPooling2D(pool_size=(2, 2)),\n",
        "        layers.Conv2D(64, kernel_size=(4, 4), activation=\"relu\",use_bias=False),\n",
        "        layers.Conv2D(16, kernel_size=(4, 4), activation=\"relu\",use_bias=False),\n",
        "        layers.Conv2D(4, kernel_size=(2, 2), activation=\"relu\",use_bias=False),\n",
        "        layers.MaxPooling2D(pool_size=(2, 2)),\n",
        "        layers.Conv2D(4,kernel_size=(1,1),activation=\"linear\",padding=\"same\",use_bias=False),\n",
        "        layers.Flatten(),\n",
        "        layers.Dense(outdim,use_bias=False)\n",
        "    ]\n",
        ")\n",
        "\n",
        "model.summary()"
      ],
      "execution_count": null,
      "outputs": [
        {
          "output_type": "stream",
          "text": [
            "WARNING:tensorflow:Please add `keras.layers.InputLayer` instead of `keras.Input` to Sequential model. `keras.Input` is intended to be used by Functional model.\n",
            "Model: \"sequential\"\n",
            "_________________________________________________________________\n",
            "Layer (type)                 Output Shape              Param #   \n",
            "=================================================================\n",
            "conv2d (Conv2D)              (None, 22, 22, 32)        1568      \n",
            "_________________________________________________________________\n",
            "max_pooling2d (MaxPooling2D) (None, 11, 11, 32)        0         \n",
            "_________________________________________________________________\n",
            "conv2d_1 (Conv2D)            (None, 8, 8, 64)          32768     \n",
            "_________________________________________________________________\n",
            "conv2d_2 (Conv2D)            (None, 5, 5, 16)          16384     \n",
            "_________________________________________________________________\n",
            "conv2d_3 (Conv2D)            (None, 4, 4, 4)           256       \n",
            "_________________________________________________________________\n",
            "max_pooling2d_1 (MaxPooling2 (None, 2, 2, 4)           0         \n",
            "_________________________________________________________________\n",
            "conv2d_4 (Conv2D)            (None, 2, 2, 4)           16        \n",
            "_________________________________________________________________\n",
            "flatten (Flatten)            (None, 16)                0         \n",
            "_________________________________________________________________\n",
            "dense (Dense)                (None, 4)                 64        \n",
            "=================================================================\n",
            "Total params: 51,056\n",
            "Trainable params: 51,056\n",
            "Non-trainable params: 0\n",
            "_________________________________________________________________\n"
          ],
          "name": "stdout"
        }
      ]
    },
    {
      "cell_type": "code",
      "metadata": {
        "id": "9qbpq3qAEfy9",
        "colab": {
          "base_uri": "https://localhost:8080/"
        },
        "outputId": "47f8b6b6-5185-4794-fc0e-a21a9a04efa6"
      },
      "source": [
        "batch_size = 128\n",
        "epochs = 5\n",
        "\n",
        "model.compile(loss=loss(outdim), optimizer=\"adam\", metrics=[])\n",
        "\n",
        "model.fit(x_train,\n",
        "          np.ones_like(x_train),\n",
        "          batch_size=batch_size,\n",
        "          epochs=epochs,\n",
        "          validation_split=0.1)"
      ],
      "execution_count": null,
      "outputs": [
        {
          "output_type": "stream",
          "text": [
            "Epoch 1/5\n",
            "90/90 [==============================] - 13s 132ms/step - loss: 0.5017 - val_loss: 0.0342\n",
            "Epoch 2/5\n",
            "90/90 [==============================] - 12s 129ms/step - loss: 0.0166 - val_loss: 0.0211\n",
            "Epoch 3/5\n",
            "90/90 [==============================] - 12s 129ms/step - loss: 0.0101 - val_loss: 0.0071\n",
            "Epoch 4/5\n",
            "90/90 [==============================] - 12s 128ms/step - loss: 0.0058 - val_loss: 0.0067\n",
            "Epoch 5/5\n",
            "90/90 [==============================] - 12s 129ms/step - loss: 0.0047 - val_loss: 0.0046\n"
          ],
          "name": "stdout"
        },
        {
          "output_type": "execute_result",
          "data": {
            "text/plain": [
              "<tensorflow.python.keras.callbacks.History at 0x7fdf45297c90>"
            ]
          },
          "metadata": {
            "tags": []
          },
          "execution_count": 7
        }
      ]
    },
    {
      "cell_type": "code",
      "metadata": {
        "id": "OKQ91orUVHAz"
      },
      "source": [
        "pa=model.predict(xa_test)\n",
        "pn=model.predict(xn_test)"
      ],
      "execution_count": null,
      "outputs": []
    },
    {
      "cell_type": "code",
      "metadata": {
        "colab": {
          "base_uri": "https://localhost:8080/"
        },
        "id": "q8u_q-lpqWcL",
        "outputId": "7f6a2298-deac-497b-9c9a-99a7dc3f6cd6"
      },
      "source": [
        "print(pa.shape)\n",
        "print(pn.shape)"
      ],
      "execution_count": null,
      "outputs": [
        {
          "output_type": "stream",
          "text": [
            "(7885, 4)\n",
            "(2115, 4)\n"
          ],
          "name": "stdout"
        }
      ]
    },
    {
      "cell_type": "code",
      "metadata": {
        "colab": {
          "base_uri": "https://localhost:8080/",
          "height": 265
        },
        "id": "54W8twtNQj3_",
        "outputId": "8614f327-c571-4191-ef11-b84c18111b5e"
      },
      "source": [
        "import matplotlib.pyplot as plt\n",
        "plt.hist(pn,bins=25,alpha=0.5,label=\"normal\",density=True)\n",
        "plt.hist(pa,bins=25,alpha=0.5,label=\"abnorm\",density=True)\n",
        "plt.legend()\n",
        "plt.show()"
      ],
      "execution_count": null,
      "outputs": [
        {
          "output_type": "display_data",
          "data": {
            "image/png": "[encoded data removed]",
            "text/plain": [
              "<Figure size 432x288 with 1 Axes>"
            ]
          },
          "metadata": {
            "tags": [],
            "needs_background": "light"
          }
        }
      ]
    },
    {
      "cell_type": "code",
      "metadata": {
        "colab": {
          "base_uri": "https://localhost:8080/"
        },
        "id": "2TL9SwQIRThk",
        "outputId": "0a910e89-2da1-4ac7-afc1-15907af6c0de"
      },
      "source": [
        "def dexbyloss(lss):return np.argmin(np.mean((pn-lss)**2,axis=1))\n",
        "minl=np.min(pn,axis=0)\n",
        "maxl=np.max(pn,axis=0)\n",
        "print(minl,maxl)\n",
        "ls=[np.arange(aminl,amaxl,(amaxl-aminl)/9.0001) for aminl,amaxl in zip(minl,maxl)]\n",
        "print(minl,ls,maxl)\n",
        "print(len(ls))"
      ],
      "execution_count": null,
      "outputs": [
        {
          "output_type": "stream",
          "text": [
            "[0.6454242  0.5698406  0.64419556 0.5474965 ] [1.2678282 1.2588519 1.2046391 1.1700186]\n",
            "[0.6454242  0.5698406  0.64419556 0.5474965 ] [array([0.64542419, 0.71457942, 0.78373466, 0.85288989, 0.92204513,\n",
            "       0.99120037, 1.0603556 , 1.12951084, 1.19866607, 1.26782131]), array([0.56984061, 0.64639657, 0.72295253, 0.79950848, 0.87606444,\n",
            "       0.9526204 , 1.02917636, 1.10573231, 1.18228827, 1.25884423]), array([0.64419556, 0.70646637, 0.76873718, 0.83100799, 0.8932788 ,\n",
            "       0.95554961, 1.01782042, 1.08009123, 1.14236204, 1.20463285]), array([0.5474965 , 0.61666485, 0.6858332 , 0.75500154, 0.82416989,\n",
            "       0.89333824, 0.96250659, 1.03167494, 1.10084329, 1.17001164])] [1.2678282 1.2588519 1.2046391 1.1700186]\n",
            "4\n"
          ],
          "name": "stdout"
        }
      ]
    },
    {
      "cell_type": "code",
      "metadata": {
        "id": "ezJUTwnCta3j"
      },
      "source": [
        "def moduloop(q,modulo=1):\n",
        "  i,j=0,0\n",
        "  while True:\n",
        "    yield q[i]\n",
        "    j+=1\n",
        "    if not (j%modulo):\n",
        "      i+=1\n",
        "      i=i%len(q)\n",
        "\n",
        "def allcomb(q):\n",
        "  modulo=1\n",
        "  iterators=[]\n",
        "  for zw in q:\n",
        "    iterators.append(moduloop(zw,modulo))\n",
        "    modulo*=len(zw)\n",
        "  for i in range(modulo):\n",
        "      yield [zw.__next__() for zw in iterators]\n"
      ],
      "execution_count": null,
      "outputs": []
    },
    {
      "cell_type": "code",
      "metadata": {
        "colab": {
          "base_uri": "https://localhost:8080/"
        },
        "id": "M-6o99TjSJIs",
        "outputId": "c4ef9396-c3a8-4f00-ee98-573bb8b8fcca"
      },
      "source": [
        "bids=[[0,1,2,3,4,5,6,7,8,9] for zw in ls]\n",
        "\n",
        "\n",
        "\n",
        "\n",
        "x,y=[],[]\n",
        "\n",
        "for bid,lss in zip(allcomb(bids),allcomb(ls)):\n",
        "  x.append(bid)\n",
        "  y.append(dexbyloss(lss))\n",
        "\n",
        "x=np.array(x)\n",
        "y=np.array(y)\n",
        "\n",
        "cls=np.array([np.argmax(yn_test[yy]) for yy in y])\n",
        "\n",
        "print(x.shape,y.shape,cls.shape)\n",
        "\n"
      ],
      "execution_count": null,
      "outputs": [
        {
          "output_type": "stream",
          "text": [
            "(10000, 4) (10000,) (10000,)\n"
          ],
          "name": "stdout"
        }
      ]
    },
    {
      "cell_type": "code",
      "metadata": {
        "colab": {
          "base_uri": "https://localhost:8080/",
          "height": 266
        },
        "id": "G-6EJbPtSdd0",
        "outputId": "36c2f9de-2859-4883-9aaa-6bd4cd6e3d46"
      },
      "source": [
        "for dim in range(outdim):\n",
        "  mns,stds=[],[]\n",
        "  for val in range(10):\n",
        "    dex=np.where(x[:,dim]==val)\n",
        "    vals=cls[dex]\n",
        "    mn=np.mean(vals)\n",
        "    std=np.std(vals)/np.sqrt(len(vals))\n",
        "    mns.append(mn)\n",
        "    stds.append(std)\n",
        "    #print(f\"x{dim}={val}:{mn}+-{std}\")\n",
        "  plt.errorbar(range(10),mns,yerr=stds,label=dim,alpha=0.6)\n",
        "plt.legend()\n",
        "plt.show()"
      ],
      "execution_count": null,
      "outputs": [
        {
          "output_type": "display_data",
          "data": {
            "image/png": "[encoded data removed]",
            "text/plain": [
              "<Figure size 432x288 with 1 Axes>"
            ]
          },
          "metadata": {
            "tags": [],
            "needs_background": "light"
          }
        }
      ]
    },
    {
      "cell_type": "code",
      "metadata": {
        "id": "qC-5kEXZoz4m"
      },
      "source": [
        "p=model.predict(x_train)\n"
      ],
      "execution_count": null,
      "outputs": []
    },
    {
      "cell_type": "code",
      "metadata": {
        "id": "WeggvG1vaX_a",
        "colab": {
          "base_uri": "https://localhost:8080/"
        },
        "outputId": "75950d68-c93c-4846-ec33-bd152d2731fd"
      },
      "source": [
        "mp=np.mean(p,axis=0)\n",
        "da=np.abs(pa-mp)\n",
        "dn=np.abs(pn-mp)\n",
        "dfa=np.sqrt(np.mean(da**2,axis=1))\n",
        "dfn=np.sqrt(np.mean(dn**2,axis=1))\n",
        "print(dfa.shape,dfn.shape)"
      ],
      "execution_count": null,
      "outputs": [
        {
          "output_type": "stream",
          "text": [
            "(7885,) (2115,)\n"
          ],
          "name": "stdout"
        }
      ]
    },
    {
      "cell_type": "code",
      "metadata": {
        "colab": {
          "base_uri": "https://localhost:8080/"
        },
        "id": "74pcqtEuomht",
        "outputId": "68771ac6-f3d5-4950-b845-c06d620bc665"
      },
      "source": [
        "print(\"normal\",np.mean(dfn),np.std(dfn))\n",
        "print(\"abnorm\",np.mean(dfa),np.std(dfa))"
      ],
      "execution_count": null,
      "outputs": [
        {
          "output_type": "stream",
          "text": [
            "normal 0.06843601 0.029676534\n",
            "abnorm 0.09012459 0.03925523\n"
          ],
          "name": "stdout"
        }
      ]
    },
    {
      "cell_type": "code",
      "metadata": {
        "colab": {
          "base_uri": "https://localhost:8080/",
          "height": 265
        },
        "id": "UsNvCJXYorqX",
        "outputId": "2d3f930c-0997-47c0-ccf9-7b074d1cd7f7"
      },
      "source": [
        "plt.hist(dfn,bins=25,alpha=0.5,label=\"normal\",density=True)\n",
        "plt.hist(dfa,bins=25,alpha=0.5,label=\"abnorm\",density=True)\n",
        "plt.legend()\n",
        "plt.show()"
      ],
      "execution_count": null,
      "outputs": [
        {
          "output_type": "display_data",
          "data": {
            "image/png": "[encoded data removed]",
            "text/plain": [
              "<Figure size 432x288 with 1 Axes>"
            ]
          },
          "metadata": {
            "tags": [],
            "needs_background": "light"
          }
        }
      ]
    },
    {
      "cell_type": "code",
      "metadata": {
        "colab": {
          "base_uri": "https://localhost:8080/"
        },
        "id": "XNHbWu2hpEo-",
        "outputId": "0986312f-d8b9-4842-fc9d-2ea45e51fbe7"
      },
      "source": [
        "y_score=np.concatenate((dfn,dfa),axis=0)\n",
        "y_true=np.concatenate((np.zeros_like(dfn),np.ones_like(dfa)),axis=0)\n",
        "\n",
        "print(y_true.shape,y_score.shape)"
      ],
      "execution_count": null,
      "outputs": [
        {
          "output_type": "stream",
          "text": [
            "(10000,) (10000,)\n"
          ],
          "name": "stdout"
        }
      ]
    },
    {
      "cell_type": "code",
      "metadata": {
        "colab": {
          "base_uri": "https://localhost:8080/"
        },
        "id": "E7U2nXJdqXG6",
        "outputId": "d1329d44-724a-4033-8094-3e7a04acf4d5"
      },
      "source": [
        "from sklearn.metrics import roc_auc_score as rauc\n",
        "\n",
        "auc=rauc(y_true,y_score)\n",
        "print(auc)"
      ],
      "execution_count": null,
      "outputs": [
        {
          "output_type": "stream",
          "text": [
            "0.6780450057040406\n"
          ],
          "name": "stdout"
        }
      ]
    },
    {
      "cell_type": "code",
      "metadata": {
        "id": "Ga6UNtw7qj-x"
      },
      "source": [
        ""
      ],
      "execution_count": null,
      "outputs": []
    }
  ]
}