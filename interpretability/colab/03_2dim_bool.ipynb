{
  "nbformat": 4,
  "nbformat_minor": 0,
  "metadata": {
    "colab": {
      "name": "mnist on the line 2d+1+0",
      "provenance": [],
      "collapsed_sections": []
    },
    "kernelspec": {
      "name": "python3",
      "display_name": "Python 3"
    }
  },
  "cells": [
    {
      "cell_type": "markdown",
      "metadata": {
        "id": "ZzPU36WEDsqa"
      },
      "source": [
        "very loosely based on https://keras.io/examples/vision/mnist_convnet/"
      ]
    },
    {
      "cell_type": "code",
      "metadata": {
        "id": "3iB5wvjpWexF"
      },
      "source": [
        "outdim=2"
      ],
      "execution_count": null,
      "outputs": []
    },
    {
      "cell_type": "code",
      "metadata": {
        "id": "HRhV-0piDPyl"
      },
      "source": [
        "import numpy as np\n",
        "from tensorflow import keras\n",
        "from tensorflow.keras import layers\n",
        "from tensorflow.keras import backend as K"
      ],
      "execution_count": null,
      "outputs": []
    },
    {
      "cell_type": "code",
      "metadata": {
        "colab": {
          "base_uri": "https://localhost:8080/"
        },
        "id": "OpkCj5gZDZxP",
        "outputId": "25399d99-00f8-4424-d254-376f20d061a4"
      },
      "source": [
        "# Model / data parameters\n",
        "num_classes = 10\n",
        "input_shape = (28, 28, 1)\n",
        "\n",
        "# the data, split between train and test sets\n",
        "(x_train, y_train), (x_test, y_test) = keras.datasets.mnist.load_data()\n",
        "\n",
        "# Scale images to the [0, 1] range\n",
        "x_train = x_train.astype(\"float32\") / 255\n",
        "x_test = x_test.astype(\"float32\") / 255\n",
        "# Make sure images have shape (28, 28, 1)\n",
        "bx_train = np.expand_dims(x_train, -1)\n",
        "bx_test = np.expand_dims(x_test, -1)\n",
        "print(\"x_train shape:\", bx_train.shape)\n",
        "print(bx_train.shape[0], \"train samples\")\n",
        "print(bx_test.shape[0], \"test samples\")\n",
        "\n",
        "\n",
        "# convert class vectors to binary class matrices\n",
        "by_train = keras.utils.to_categorical(y_train, num_classes)\n",
        "by_test = keras.utils.to_categorical(y_test, num_classes)"
      ],
      "execution_count": null,
      "outputs": [
        {
          "output_type": "stream",
          "text": [
            "Downloading data from https://storage.googleapis.com/tensorflow/tf-keras-datasets/mnist.npz\n",
            "11493376/11490434 [==============================] - 0s 0us/step\n",
            "x_train shape: (60000, 28, 28, 1)\n",
            "60000 train samples\n",
            "10000 test samples\n"
          ],
          "name": "stdout"
        }
      ]
    },
    {
      "cell_type": "code",
      "metadata": {
        "colab": {
          "base_uri": "https://localhost:8080/"
        },
        "id": "Hjhm1Q8lIBs2",
        "outputId": "0c990d35-ce02-42b4-8e8b-5ba767afd23e"
      },
      "source": [
        "classes=[0,1]\n",
        "x_train=np.array(\n",
        "    [xx for xx,yy in zip(bx_train,by_train) if\n",
        "      np.any([yy[cc] for cc in classes])\n",
        "    ])\n",
        "y_train=np.array([yy for yy in by_train if np.any([yy[cc] for cc in classes])])\n",
        "print(x_train.shape)\n",
        "print(y_train.shape)\n",
        "\n",
        "xa_test=np.array(\n",
        "    [xx for xx,yy in zip(bx_test,by_test) if\n",
        "      not np.any([yy[cc] for cc in classes])\n",
        "    ])\n",
        "ya_test=np.array([yy for yy in by_test if not np.any([yy[cc] for cc in classes])])\n",
        "print(xa_test.shape)\n",
        "print(ya_test.shape)\n",
        "xn_test=np.array(\n",
        "    [xx for xx,yy in zip(bx_test,by_test) if\n",
        "      np.any([yy[cc] for cc in classes])\n",
        "    ])\n",
        "yn_test=np.array([yy for yy in by_test if np.any([yy[cc] for cc in classes])])\n",
        "print(xn_test.shape)\n",
        "print(yn_test.shape)\n",
        "\n"
      ],
      "execution_count": null,
      "outputs": [
        {
          "output_type": "stream",
          "text": [
            "(12665, 28, 28, 1)\n",
            "(12665, 10)\n",
            "(7885, 28, 28, 1)\n",
            "(7885, 10)\n",
            "(2115, 28, 28, 1)\n",
            "(2115, 10)\n"
          ],
          "name": "stdout"
        }
      ]
    },
    {
      "cell_type": "code",
      "metadata": {
        "id": "jJz0agqiQuYp"
      },
      "source": [
        "def loss(outdim):\n",
        "    if outdim==1:\n",
        "        def lss(a,b):\n",
        "            q=b\n",
        "            return K.mean((q-1)**2)\n",
        "        return lss\n",
        "    def lss(a,b):\n",
        "        q=b\n",
        "        pd=[i for i in range(len(q.shape))]\n",
        "        pd.remove(pd[-1])\n",
        "        pd.insert(0,len(pd))\n",
        "        #print(pd)\n",
        "        q=K.permute_dimensions(q,tuple(pd))\n",
        "        #exit()\n",
        "\n",
        "        #print(q.shape)\n",
        "\n",
        "        adl=None\n",
        "\n",
        "        for i in range(outdim):\n",
        "            for j in range(i+1,outdim):\n",
        "              ac=K.abs(K.mean(((q[i]-1)*(q[j]-1))))\n",
        "              if adl is None:\n",
        "                  adl=ac\n",
        "              else:\n",
        "                  adl+=ac\n",
        "\n",
        "        return adl\n",
        "    return lss"
      ],
      "execution_count": null,
      "outputs": []
    },
    {
      "cell_type": "code",
      "metadata": {
        "id": "cguVrdVrEtLl",
        "colab": {
          "base_uri": "https://localhost:8080/"
        },
        "outputId": "73069669-177d-4316-b68f-7fbef9cf9642"
      },
      "source": [
        "model = keras.Sequential(\n",
        "    [\n",
        "        keras.Input(shape=input_shape),\n",
        "        layers.Conv2D(32, kernel_size=(7, 7), activation=\"relu\",use_bias=False),\n",
        "        layers.MaxPooling2D(pool_size=(2, 2)),\n",
        "        layers.Conv2D(64, kernel_size=(4, 4), activation=\"relu\",use_bias=False),\n",
        "        layers.Conv2D(16, kernel_size=(4, 4), activation=\"relu\",use_bias=False),\n",
        "        layers.Conv2D(4, kernel_size=(2, 2), activation=\"relu\",use_bias=False),\n",
        "        layers.MaxPooling2D(pool_size=(2, 2)),\n",
        "        layers.Conv2D(4,kernel_size=(1,1),activation=\"linear\",padding=\"same\",use_bias=False),\n",
        "        layers.Flatten(),\n",
        "        layers.Dense(outdim,use_bias=False)\n",
        "    ]\n",
        ")\n",
        "\n",
        "model.summary()"
      ],
      "execution_count": null,
      "outputs": [
        {
          "output_type": "stream",
          "text": [
            "WARNING:tensorflow:Please add `keras.layers.InputLayer` instead of `keras.Input` to Sequential model. `keras.Input` is intended to be used by Functional model.\n",
            "Model: \"sequential\"\n",
            "_________________________________________________________________\n",
            "Layer (type)                 Output Shape              Param #   \n",
            "=================================================================\n",
            "conv2d (Conv2D)              (None, 22, 22, 32)        1568      \n",
            "_________________________________________________________________\n",
            "max_pooling2d (MaxPooling2D) (None, 11, 11, 32)        0         \n",
            "_________________________________________________________________\n",
            "conv2d_1 (Conv2D)            (None, 8, 8, 64)          32768     \n",
            "_________________________________________________________________\n",
            "conv2d_2 (Conv2D)            (None, 5, 5, 16)          16384     \n",
            "_________________________________________________________________\n",
            "conv2d_3 (Conv2D)            (None, 4, 4, 4)           256       \n",
            "_________________________________________________________________\n",
            "max_pooling2d_1 (MaxPooling2 (None, 2, 2, 4)           0         \n",
            "_________________________________________________________________\n",
            "conv2d_4 (Conv2D)            (None, 2, 2, 4)           16        \n",
            "_________________________________________________________________\n",
            "flatten (Flatten)            (None, 16)                0         \n",
            "_________________________________________________________________\n",
            "dense (Dense)                (None, 2)                 32        \n",
            "=================================================================\n",
            "Total params: 51,024\n",
            "Trainable params: 51,024\n",
            "Non-trainable params: 0\n",
            "_________________________________________________________________\n"
          ],
          "name": "stdout"
        }
      ]
    },
    {
      "cell_type": "code",
      "metadata": {
        "id": "9qbpq3qAEfy9",
        "colab": {
          "base_uri": "https://localhost:8080/"
        },
        "outputId": "73017bbb-6183-4fe7-b8cf-804b74ca623f"
      },
      "source": [
        "batch_size = 128\n",
        "epochs = 5\n",
        "\n",
        "model.compile(loss=loss(outdim), optimizer=\"adam\", metrics=[])\n",
        "\n",
        "model.fit(x_train,\n",
        "          np.ones_like(x_train),\n",
        "          batch_size=batch_size,\n",
        "          epochs=epochs,\n",
        "          validation_split=0.1)"
      ],
      "execution_count": null,
      "outputs": [
        {
          "output_type": "stream",
          "text": [
            "Epoch 1/5\n",
            "90/90 [==============================] - 12s 120ms/step - loss: 0.0818 - val_loss: 0.0048\n",
            "Epoch 2/5\n",
            "90/90 [==============================] - 11s 118ms/step - loss: 0.0072 - val_loss: 0.0033\n",
            "Epoch 3/5\n",
            "90/90 [==============================] - 11s 118ms/step - loss: 0.0054 - val_loss: 0.0030\n",
            "Epoch 4/5\n",
            "90/90 [==============================] - 11s 117ms/step - loss: 0.0041 - val_loss: 0.0035\n",
            "Epoch 5/5\n",
            "90/90 [==============================] - 11s 117ms/step - loss: 0.0019 - val_loss: 0.0015\n"
          ],
          "name": "stdout"
        },
        {
          "output_type": "execute_result",
          "data": {
            "text/plain": [
              "<tensorflow.python.keras.callbacks.History at 0x7f166fbefa10>"
            ]
          },
          "metadata": {
            "tags": []
          },
          "execution_count": 7
        }
      ]
    },
    {
      "cell_type": "code",
      "metadata": {
        "id": "OKQ91orUVHAz"
      },
      "source": [
        "pa=model.predict(xa_test)\n",
        "pn=model.predict(xn_test)"
      ],
      "execution_count": null,
      "outputs": []
    },
    {
      "cell_type": "code",
      "metadata": {
        "colab": {
          "base_uri": "https://localhost:8080/"
        },
        "id": "q8u_q-lpqWcL",
        "outputId": "b6664326-9044-4187-9342-a24427909bee"
      },
      "source": [
        "print(pa.shape)\n",
        "print(pn.shape)"
      ],
      "execution_count": null,
      "outputs": [
        {
          "output_type": "stream",
          "text": [
            "(7885, 2)\n",
            "(2115, 2)\n"
          ],
          "name": "stdout"
        }
      ]
    },
    {
      "cell_type": "code",
      "metadata": {
        "id": "E6maTAvltWVZ",
        "colab": {
          "base_uri": "https://localhost:8080/"
        },
        "outputId": "8ec3cdf0-c52f-48cb-e617-16a07438dd66"
      },
      "source": [
        "da=np.abs(pa-1)\n",
        "dn=np.abs(pn-1)\n",
        "dfa=np.sqrt(np.mean(da**2,axis=1))\n",
        "dfn=np.sqrt(np.mean(dn**2,axis=1))\n",
        "print(dfa.shape,dfn.shape)"
      ],
      "execution_count": null,
      "outputs": [
        {
          "output_type": "stream",
          "text": [
            "(7885,) (2115,)\n"
          ],
          "name": "stdout"
        }
      ]
    },
    {
      "cell_type": "code",
      "metadata": {
        "colab": {
          "base_uri": "https://localhost:8080/"
        },
        "id": "3Yn0uPZ-QSZU",
        "outputId": "2f4a8d34-0fe8-4b38-ea39-1f51cd211a8a"
      },
      "source": [
        "print(\"normal\",np.mean(dfn),np.std(dfn))\n",
        "print(\"abnorm\",np.mean(dfa),np.std(dfa))"
      ],
      "execution_count": null,
      "outputs": [
        {
          "output_type": "stream",
          "text": [
            "normal 0.10881145 0.054628227\n",
            "abnorm 0.12916256 0.06580681\n"
          ],
          "name": "stdout"
        }
      ]
    },
    {
      "cell_type": "code",
      "metadata": {
        "colab": {
          "base_uri": "https://localhost:8080/",
          "height": 265
        },
        "id": "5YQVVbP0QcKe",
        "outputId": "fc694a0a-1740-4c0b-cf06-d18eae16916b"
      },
      "source": [
        "import matplotlib.pyplot as plt\n",
        "\n",
        "plt.hist(dfn,bins=25,alpha=0.5,label=\"normal\",density=True)\n",
        "plt.hist(dfa,bins=25,alpha=0.5,label=\"abnorm\",density=True)\n",
        "plt.legend()\n",
        "plt.show()"
      ],
      "execution_count": null,
      "outputs": [
        {
          "output_type": "display_data",
          "data": {
            "image/png": "[encoded data removed]",
            "text/plain": [
              "<Figure size 432x288 with 1 Axes>"
            ]
          },
          "metadata": {
            "tags": [],
            "needs_background": "light"
          }
        }
      ]
    },
    {
      "cell_type": "code",
      "metadata": {
        "colab": {
          "base_uri": "https://localhost:8080/",
          "height": 265
        },
        "id": "54W8twtNQj3_",
        "outputId": "6dcd1412-dfda-4475-dc0e-5e7300f25eaa"
      },
      "source": [
        "plt.hist(pn,bins=25,alpha=0.5,label=\"normal\",density=True)\n",
        "plt.hist(pa,bins=25,alpha=0.5,label=\"abnorm\",density=True)\n",
        "plt.legend()\n",
        "plt.show()"
      ],
      "execution_count": null,
      "outputs": [
        {
          "output_type": "display_data",
          "data": {
            "image/png": "[encoded data removed]",
            "text/plain": [
              "<Figure size 432x288 with 1 Axes>"
            ]
          },
          "metadata": {
            "tags": [],
            "needs_background": "light"
          }
        }
      ]
    },
    {
      "cell_type": "code",
      "metadata": {
        "colab": {
          "base_uri": "https://localhost:8080/"
        },
        "id": "2TL9SwQIRThk",
        "outputId": "5985fe48-68f9-47fb-e686-a8c7ebe0a8c1"
      },
      "source": [
        "def dexbyloss(lss):return np.argmin(np.mean((pn-lss)**2,axis=1))\n",
        "minl=np.min(pn,axis=0)\n",
        "maxl=np.max(pn,axis=0)\n",
        "print(minl,maxl)\n",
        "ls=[np.arange(aminl,amaxl,(amaxl-aminl)/9.0001) for aminl,amaxl in zip(minl,maxl)]\n",
        "print(minl,ls,maxl)\n",
        "print(len(ls))"
      ],
      "execution_count": null,
      "outputs": [
        {
          "output_type": "stream",
          "text": [
            "[0.5658122  0.62426955] [1.4567937 1.4071004]\n",
            "[0.5658122  0.62426955] [array([0.56581217, 0.66480901, 0.76380586, 0.8628027 , 0.96179955,\n",
            "       1.06079639, 1.15979323, 1.25879008, 1.35778692, 1.45678377]), array([0.62426955, 0.71124979, 0.79823003, 0.88521028, 0.97219052,\n",
            "       1.05917077, 1.14615101, 1.23313125, 1.3201115 , 1.40709174])] [1.4567937 1.4071004]\n",
            "2\n"
          ],
          "name": "stdout"
        }
      ]
    },
    {
      "cell_type": "code",
      "metadata": {
        "colab": {
          "base_uri": "https://localhost:8080/"
        },
        "id": "M-6o99TjSJIs",
        "outputId": "c03fc936-aae9-4355-a80c-85a4c0b0e9de"
      },
      "source": [
        "dex=[[dexbyloss([l0,l1]) for l1 in ls[1]] for l0 in ls[0]]\n",
        "print(dex)"
      ],
      "execution_count": null,
      "outputs": [
        {
          "output_type": "stream",
          "text": [
            "[[1370, 1370, 1370, 111, 1398, 1398, 1397, 1397, 392, 1664], [1370, 792, 792, 111, 1558, 1397, 392, 392, 1664, 1664], [461, 461, 696, 2066, 80, 1886, 392, 1664, 1664, 1664], [744, 391, 66, 570, 1508, 1742, 2042, 734, 1633, 1633], [86, 627, 1822, 483, 1078, 1216, 661, 1655, 1633, 1906], [86, 536, 659, 945, 1346, 1665, 2022, 901, 1906, 1906], [956, 956, 287, 433, 1231, 186, 868, 768, 69, 1906], [848, 607, 1157, 30, 1202, 1825, 1452, 1818, 5, 1906], [4, 4, 98, 1591, 1318, 249, 1925, 1925, 5, 5], [4, 1111, 1111, 1611, 1310, 1310, 1925, 1925, 1925, 5]]\n"
          ],
          "name": "stdout"
        }
      ]
    },
    {
      "cell_type": "code",
      "metadata": {
        "colab": {
          "base_uri": "https://localhost:8080/"
        },
        "id": "G-6EJbPtSdd0",
        "outputId": "91f53d6b-a4b4-4e44-9e0e-e62591159249"
      },
      "source": [
        "topl=np.array([[xn_test[d] for d in dd] for dd in dex])\n",
        "print(topl.shape)\n"
      ],
      "execution_count": null,
      "outputs": [
        {
          "output_type": "stream",
          "text": [
            "(10, 10, 28, 28, 1)\n"
          ],
          "name": "stdout"
        }
      ]
    },
    {
      "cell_type": "code",
      "metadata": {
        "colab": {
          "base_uri": "https://localhost:8080/",
          "height": 269
        },
        "id": "Ne2MIN-iSxpb",
        "outputId": "bcfb3435-a33b-418f-e196-b2a2e900691e"
      },
      "source": [
        "for i,zx in enumerate(topl):\n",
        "  for j,zw in enumerate(zx):\n",
        "\n",
        "    plt.subplot(len(topl),len(zx),1+len(zx)*i+j)\n",
        "    plt.imshow(zw[:,:,0], cmap=plt.get_cmap('gray'))\n",
        "plt.show()"
      ],
      "execution_count": null,
      "outputs": [
        {
          "output_type": "display_data",
          "data": {
            "image/png": "[encoded data removed]",
            "text/plain": [
              "<Figure size 432x288 with 100 Axes>"
            ]
          },
          "metadata": {
            "tags": [],
            "needs_background": "light"
          }
        }
      ]
    },
    {
      "cell_type": "code",
      "metadata": {
        "id": "5WCFXDeJTibn",
        "colab": {
          "base_uri": "https://localhost:8080/",
          "height": 269
        },
        "outputId": "3d021047-5a38-4720-960e-4578404b0bcf"
      },
      "source": [
        "\n",
        "addon=np.zeros(len(pn),dtype=\"float\")\n",
        "def dexbyloss(lss):\n",
        "  dex= np.argmin(np.mean((pn-lss)**2,axis=1)+addon)\n",
        "  addon[dex]=1000.0\n",
        "  return dex\n",
        "\n",
        "ls=[np.arange(aminl,amaxl,(amaxl-aminl)/9.0001) for aminl,amaxl in zip(minl,maxl)]\n",
        "dex=[[dexbyloss([l0,l1]) for l1 in ls[1]] for l0 in ls[0]]\n",
        "\n",
        "topl=np.array([[xn_test[d] for d in dd] for dd in dex])\n",
        "\n",
        "for i,zx in enumerate(topl):\n",
        "  for j,zw in enumerate(zx):\n",
        "\n",
        "    plt.subplot(len(topl),len(zx),1+len(zx)*i+j)\n",
        "    plt.imshow(zw[:,:,0], cmap=plt.get_cmap('gray'))\n",
        "plt.show()"
      ],
      "execution_count": null,
      "outputs": [
        {
          "output_type": "display_data",
          "data": {
            "image/png": "[encoded data removed]",
            "text/plain": [
              "<Figure size 432x288 with 100 Axes>"
            ]
          },
          "metadata": {
            "tags": [],
            "needs_background": "light"
          }
        }
      ]
    },
    {
      "cell_type": "code",
      "metadata": {
        "colab": {
          "base_uri": "https://localhost:8080/"
        },
        "id": "O6YsVm2QYoaN",
        "outputId": "df1a8434-5efd-41ae-bff7-f050b0528350"
      },
      "source": [
        "td=np.array([[np.argmax(yn_test[d]) for d in dd] for dd in dex])\n",
        "print(td)"
      ],
      "execution_count": null,
      "outputs": [
        {
          "output_type": "stream",
          "text": [
            "[[1 1 1 1 1 1 1 1 1 1]\n",
            " [0 1 1 1 1 1 1 1 1 1]\n",
            " [0 0 0 1 1 1 0 1 1 1]\n",
            " [0 0 0 0 1 1 0 0 1 1]\n",
            " [0 0 0 0 0 0 0 1 1 1]\n",
            " [0 0 0 1 1 0 1 1 1 1]\n",
            " [0 0 0 0 1 1 1 1 1 1]\n",
            " [0 0 0 0 0 1 1 1 1 1]\n",
            " [0 0 0 0 0 0 1 1 1 1]\n",
            " [0 0 0 0 0 0 0 1 1 1]]\n"
          ],
          "name": "stdout"
        }
      ]
    },
    {
      "cell_type": "code",
      "metadata": {
        "colab": {
          "base_uri": "https://localhost:8080/"
        },
        "id": "-QvLhcQxaOxJ",
        "outputId": "a63021ac-8f7d-49a3-9632-88ad3e129e11"
      },
      "source": [
        "print(np.mean(td,axis=0),np.mean(np.std(td,axis=0)))\n",
        "print(np.mean(td,axis=1),np.mean(np.std(td,axis=1)))"
      ],
      "execution_count": null,
      "outputs": [
        {
          "output_type": "stream",
          "text": [
            "[0.1 0.2 0.2 0.4 0.6 0.6 0.6 0.9 1.  1. ] 0.3359591794226543\n",
            "[1.  0.9 0.6 0.4 0.3 0.6 0.6 0.5 0.4 0.3] 0.4166004881774346\n"
          ],
          "name": "stdout"
        }
      ]
    },
    {
      "cell_type": "code",
      "metadata": {
        "id": "qC-5kEXZoz4m"
      },
      "source": [
        "p=model.predict(x_train)\n"
      ],
      "execution_count": null,
      "outputs": []
    },
    {
      "cell_type": "code",
      "metadata": {
        "id": "WeggvG1vaX_a",
        "colab": {
          "base_uri": "https://localhost:8080/"
        },
        "outputId": "56b5b192-fe1a-4e39-dfa8-433aa709fb8c"
      },
      "source": [
        "mp=np.mean(p,axis=0)\n",
        "da=np.abs(pa-mp)\n",
        "dn=np.abs(pn-mp)\n",
        "dfa=np.sqrt(np.mean(da**2,axis=1))\n",
        "dfn=np.sqrt(np.mean(dn**2,axis=1))\n",
        "print(dfa.shape,dfn.shape)"
      ],
      "execution_count": null,
      "outputs": [
        {
          "output_type": "stream",
          "text": [
            "(7885,) (2115,)\n"
          ],
          "name": "stdout"
        }
      ]
    },
    {
      "cell_type": "code",
      "metadata": {
        "colab": {
          "base_uri": "https://localhost:8080/"
        },
        "id": "74pcqtEuomht",
        "outputId": "fcb065e6-24fe-484e-c54d-660d7afe0882"
      },
      "source": [
        "print(\"normal\",np.mean(dfn),np.std(dfn))\n",
        "print(\"abnorm\",np.mean(dfa),np.std(dfa))"
      ],
      "execution_count": null,
      "outputs": [
        {
          "output_type": "stream",
          "text": [
            "normal 0.098090105 0.0524144\n",
            "abnorm 0.16017343 0.07203087\n"
          ],
          "name": "stdout"
        }
      ]
    },
    {
      "cell_type": "code",
      "metadata": {
        "colab": {
          "base_uri": "https://localhost:8080/",
          "height": 265
        },
        "id": "UsNvCJXYorqX",
        "outputId": "455ac574-a905-441e-c5dd-fe924504eeb7"
      },
      "source": [
        "plt.hist(dfn,bins=25,alpha=0.5,label=\"normal\",density=True)\n",
        "plt.hist(dfa,bins=25,alpha=0.5,label=\"abnorm\",density=True)\n",
        "plt.legend()\n",
        "plt.show()"
      ],
      "execution_count": null,
      "outputs": [
        {
          "output_type": "display_data",
          "data": {
            "image/png": "[encoded data removed]",
            "text/plain": [
              "<Figure size 432x288 with 1 Axes>"
            ]
          },
          "metadata": {
            "tags": [],
            "needs_background": "light"
          }
        }
      ]
    },
    {
      "cell_type": "code",
      "metadata": {
        "colab": {
          "base_uri": "https://localhost:8080/"
        },
        "id": "XNHbWu2hpEo-",
        "outputId": "22ccfd47-4283-4795-f6e1-d167502b095b"
      },
      "source": [
        "y_score=np.concatenate((dfn,dfa),axis=0)\n",
        "y_true=np.concatenate((np.zeros_like(dfn),np.ones_like(dfa)),axis=0)\n",
        "\n",
        "print(y_true.shape,y_score.shape)"
      ],
      "execution_count": null,
      "outputs": [
        {
          "output_type": "stream",
          "text": [
            "(10000,) (10000,)\n"
          ],
          "name": "stdout"
        }
      ]
    },
    {
      "cell_type": "code",
      "metadata": {
        "colab": {
          "base_uri": "https://localhost:8080/"
        },
        "id": "E7U2nXJdqXG6",
        "outputId": "72f63950-9922-4193-b763-8ca395b08e01"
      },
      "source": [
        "from sklearn.metrics import roc_auc_score as rauc\n",
        "\n",
        "auc=rauc(y_true,y_score)\n",
        "print(auc)"
      ],
      "execution_count": null,
      "outputs": [
        {
          "output_type": "stream",
          "text": [
            "0.7580328031049168\n"
          ],
          "name": "stdout"
        }
      ]
    },
    {
      "cell_type": "code",
      "metadata": {
        "id": "Ga6UNtw7qj-x"
      },
      "source": [
        ""
      ],
      "execution_count": null,
      "outputs": []
    }
  ]
}