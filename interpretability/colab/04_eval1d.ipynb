{
  "nbformat": 4,
  "nbformat_minor": 0,
  "metadata": {
    "colab": {
      "name": "mnist on the line 4d is 1d",
      "provenance": [],
      "collapsed_sections": []
    },
    "kernelspec": {
      "name": "python3",
      "display_name": "Python 3"
    }
  },
  "cells": [
    {
      "cell_type": "markdown",
      "metadata": {
        "id": "ZzPU36WEDsqa"
      },
      "source": [
        "very loosely based on https://keras.io/examples/vision/mnist_convnet/"
      ]
    },
    {
      "cell_type": "code",
      "metadata": {
        "id": "3iB5wvjpWexF"
      },
      "source": [
        "outdim=1"
      ],
      "execution_count": null,
      "outputs": []
    },
    {
      "cell_type": "code",
      "metadata": {
        "id": "HRhV-0piDPyl"
      },
      "source": [
        "import numpy as np\n",
        "from tensorflow import keras\n",
        "from tensorflow.keras import layers\n",
        "from tensorflow.keras import backend as K"
      ],
      "execution_count": null,
      "outputs": []
    },
    {
      "cell_type": "code",
      "metadata": {
        "colab": {
          "base_uri": "https://localhost:8080/"
        },
        "id": "OpkCj5gZDZxP",
        "outputId": "ee60511b-c7a1-415b-bd18-4d4d80ca6967"
      },
      "source": [
        "# Model / data parameters\n",
        "num_classes = 10\n",
        "input_shape = (28, 28, 1)\n",
        "\n",
        "# the data, split between train and test sets\n",
        "(x_train, y_train), (x_test, y_test) = keras.datasets.mnist.load_data()\n",
        "\n",
        "# Scale images to the [0, 1] range\n",
        "x_train = x_train.astype(\"float32\") / 255\n",
        "x_test = x_test.astype(\"float32\") / 255\n",
        "# Make sure images have shape (28, 28, 1)\n",
        "bx_train = np.expand_dims(x_train, -1)\n",
        "bx_test = np.expand_dims(x_test, -1)\n",
        "print(\"x_train shape:\", bx_train.shape)\n",
        "print(bx_train.shape[0], \"train samples\")\n",
        "print(bx_test.shape[0], \"test samples\")\n",
        "\n",
        "\n",
        "# convert class vectors to binary class matrices\n",
        "by_train = keras.utils.to_categorical(y_train, num_classes)\n",
        "by_test = keras.utils.to_categorical(y_test, num_classes)"
      ],
      "execution_count": null,
      "outputs": [
        {
          "output_type": "stream",
          "text": [
            "Downloading data from https://storage.googleapis.com/tensorflow/tf-keras-datasets/mnist.npz\n",
            "11493376/11490434 [==============================] - 0s 0us/step\n",
            "x_train shape: (60000, 28, 28, 1)\n",
            "60000 train samples\n",
            "10000 test samples\n"
          ],
          "name": "stdout"
        }
      ]
    },
    {
      "cell_type": "code",
      "metadata": {
        "colab": {
          "base_uri": "https://localhost:8080/"
        },
        "id": "Hjhm1Q8lIBs2",
        "outputId": "ca3ab9b7-b492-41f1-8721-4c681934b6e1"
      },
      "source": [
        "classes=[0,1]\n",
        "x_train=np.array(\n",
        "    [xx for xx,yy in zip(bx_train,by_train) if\n",
        "      np.any([yy[cc] for cc in classes])\n",
        "    ])\n",
        "y_train=np.array([yy for yy in by_train if np.any([yy[cc] for cc in classes])])\n",
        "print(x_train.shape)\n",
        "print(y_train.shape)\n",
        "\n",
        "xa_test=np.array(\n",
        "    [xx for xx,yy in zip(bx_test,by_test) if\n",
        "      not np.any([yy[cc] for cc in classes])\n",
        "    ])\n",
        "ya_test=np.array([yy for yy in by_test if not np.any([yy[cc] for cc in classes])])\n",
        "print(xa_test.shape)\n",
        "print(ya_test.shape)\n",
        "xn_test=np.array(\n",
        "    [xx for xx,yy in zip(bx_test,by_test) if\n",
        "      np.any([yy[cc] for cc in classes])\n",
        "    ])\n",
        "yn_test=np.array([yy for yy in by_test if np.any([yy[cc] for cc in classes])])\n",
        "print(xn_test.shape)\n",
        "print(yn_test.shape)\n",
        "\n"
      ],
      "execution_count": null,
      "outputs": [
        {
          "output_type": "stream",
          "text": [
            "(12665, 28, 28, 1)\n",
            "(12665, 10)\n",
            "(7885, 28, 28, 1)\n",
            "(7885, 10)\n",
            "(2115, 28, 28, 1)\n",
            "(2115, 10)\n"
          ],
          "name": "stdout"
        }
      ]
    },
    {
      "cell_type": "code",
      "metadata": {
        "id": "jJz0agqiQuYp"
      },
      "source": [
        "def loss(outdim):\n",
        "    if outdim==1:\n",
        "        def lss(a,b):\n",
        "            q=b\n",
        "            return K.mean((q-1)**2)\n",
        "        return lss\n",
        "    def lss(a,b):\n",
        "        q=b\n",
        "        pd=[i for i in range(len(q.shape))]\n",
        "        pd.remove(pd[-1])\n",
        "        pd.insert(0,len(pd))\n",
        "        #print(pd)\n",
        "        q=K.permute_dimensions(q,tuple(pd))\n",
        "        #exit()\n",
        "\n",
        "        #print(q.shape)\n",
        "\n",
        "        adl=None\n",
        "\n",
        "        for i in range(outdim):\n",
        "            for j in range(i+1,outdim):\n",
        "              ac=K.abs(K.mean(((q[i]-1)*(q[j]-1))))\n",
        "              if adl is None:\n",
        "                  adl=ac\n",
        "              else:\n",
        "                  adl+=ac\n",
        "\n",
        "        return adl\n",
        "    return lss"
      ],
      "execution_count": null,
      "outputs": []
    },
    {
      "cell_type": "code",
      "metadata": {
        "id": "cguVrdVrEtLl",
        "colab": {
          "base_uri": "https://localhost:8080/"
        },
        "outputId": "2a77ad01-5a46-443e-946f-4b1fdc3429a8"
      },
      "source": [
        "model = keras.Sequential(\n",
        "    [\n",
        "        keras.Input(shape=input_shape),\n",
        "        layers.Conv2D(32, kernel_size=(7, 7), activation=\"relu\",use_bias=False),\n",
        "        layers.MaxPooling2D(pool_size=(2, 2)),\n",
        "        layers.Conv2D(64, kernel_size=(4, 4), activation=\"relu\",use_bias=False),\n",
        "        layers.Conv2D(16, kernel_size=(4, 4), activation=\"relu\",use_bias=False),\n",
        "        layers.Conv2D(4, kernel_size=(2, 2), activation=\"relu\",use_bias=False),\n",
        "        layers.MaxPooling2D(pool_size=(2, 2)),\n",
        "        layers.Conv2D(4,kernel_size=(1,1),activation=\"linear\",padding=\"same\",use_bias=False),\n",
        "        layers.Flatten(),\n",
        "        layers.Dense(outdim,use_bias=False)\n",
        "    ]\n",
        ")\n",
        "\n",
        "model.summary()"
      ],
      "execution_count": null,
      "outputs": [
        {
          "output_type": "stream",
          "text": [
            "WARNING:tensorflow:Please add `keras.layers.InputLayer` instead of `keras.Input` to Sequential model. `keras.Input` is intended to be used by Functional model.\n",
            "Model: \"sequential\"\n",
            "_________________________________________________________________\n",
            "Layer (type)                 Output Shape              Param #   \n",
            "=================================================================\n",
            "conv2d (Conv2D)              (None, 22, 22, 32)        1568      \n",
            "_________________________________________________________________\n",
            "max_pooling2d (MaxPooling2D) (None, 11, 11, 32)        0         \n",
            "_________________________________________________________________\n",
            "conv2d_1 (Conv2D)            (None, 8, 8, 64)          32768     \n",
            "_________________________________________________________________\n",
            "conv2d_2 (Conv2D)            (None, 5, 5, 16)          16384     \n",
            "_________________________________________________________________\n",
            "conv2d_3 (Conv2D)            (None, 4, 4, 4)           256       \n",
            "_________________________________________________________________\n",
            "max_pooling2d_1 (MaxPooling2 (None, 2, 2, 4)           0         \n",
            "_________________________________________________________________\n",
            "conv2d_4 (Conv2D)            (None, 2, 2, 4)           16        \n",
            "_________________________________________________________________\n",
            "flatten (Flatten)            (None, 16)                0         \n",
            "_________________________________________________________________\n",
            "dense (Dense)                (None, 1)                 16        \n",
            "=================================================================\n",
            "Total params: 51,008\n",
            "Trainable params: 51,008\n",
            "Non-trainable params: 0\n",
            "_________________________________________________________________\n"
          ],
          "name": "stdout"
        }
      ]
    },
    {
      "cell_type": "code",
      "metadata": {
        "id": "9qbpq3qAEfy9",
        "colab": {
          "base_uri": "https://localhost:8080/"
        },
        "outputId": "db1e4c32-cdbd-4b7f-f9c1-66f4b68f0f66"
      },
      "source": [
        "batch_size = 128\n",
        "epochs = 5\n",
        "\n",
        "model.compile(loss=loss(outdim), optimizer=\"adam\", metrics=[])\n",
        "\n",
        "model.fit(x_train,\n",
        "          np.ones_like(x_train),\n",
        "          batch_size=batch_size,\n",
        "          epochs=epochs,\n",
        "          validation_split=0.1)"
      ],
      "execution_count": null,
      "outputs": [
        {
          "output_type": "stream",
          "text": [
            "Epoch 1/5\n",
            "90/90 [==============================] - 13s 131ms/step - loss: 0.1254 - val_loss: 0.0027\n",
            "Epoch 2/5\n",
            "90/90 [==============================] - 11s 128ms/step - loss: 0.0017 - val_loss: 0.0011\n",
            "Epoch 3/5\n",
            "90/90 [==============================] - 12s 129ms/step - loss: 0.0010 - val_loss: 8.4112e-04\n",
            "Epoch 4/5\n",
            "90/90 [==============================] - 11s 128ms/step - loss: 8.4382e-04 - val_loss: 0.0010\n",
            "Epoch 5/5\n",
            "90/90 [==============================] - 11s 127ms/step - loss: 7.6114e-04 - val_loss: 6.7457e-04\n"
          ],
          "name": "stdout"
        },
        {
          "output_type": "execute_result",
          "data": {
            "text/plain": [
              "<tensorflow.python.keras.callbacks.History at 0x7f9c2a1d4590>"
            ]
          },
          "metadata": {
            "tags": []
          },
          "execution_count": 7
        }
      ]
    },
    {
      "cell_type": "code",
      "metadata": {
        "id": "OKQ91orUVHAz"
      },
      "source": [
        "pa=model.predict(xa_test)\n",
        "pn=model.predict(xn_test)"
      ],
      "execution_count": null,
      "outputs": []
    },
    {
      "cell_type": "code",
      "metadata": {
        "colab": {
          "base_uri": "https://localhost:8080/"
        },
        "id": "q8u_q-lpqWcL",
        "outputId": "9a1f7be5-d9e5-4277-c951-95d20dcc3a1c"
      },
      "source": [
        "print(pa.shape)\n",
        "print(pn.shape)"
      ],
      "execution_count": null,
      "outputs": [
        {
          "output_type": "stream",
          "text": [
            "(7885, 1)\n",
            "(2115, 1)\n"
          ],
          "name": "stdout"
        }
      ]
    },
    {
      "cell_type": "code",
      "metadata": {
        "id": "E6maTAvltWVZ",
        "colab": {
          "base_uri": "https://localhost:8080/"
        },
        "outputId": "56a68cfb-b98d-44b9-debe-4a00c97872a3"
      },
      "source": [
        "da=np.abs(pa-1)\n",
        "dn=np.abs(pn-1)\n",
        "dfa=np.sqrt(np.mean(da**2,axis=1))\n",
        "dfn=np.sqrt(np.mean(dn**2,axis=1))\n",
        "print(dfa.shape,dfn.shape)"
      ],
      "execution_count": null,
      "outputs": [
        {
          "output_type": "stream",
          "text": [
            "(7885,) (2115,)\n"
          ],
          "name": "stdout"
        }
      ]
    },
    {
      "cell_type": "code",
      "metadata": {
        "colab": {
          "base_uri": "https://localhost:8080/"
        },
        "id": "3Yn0uPZ-QSZU",
        "outputId": "e53b740c-6978-4547-971e-de17f183395a"
      },
      "source": [
        "print(\"normal\",np.mean(dfn),np.std(dfn))\n",
        "print(\"abnorm\",np.mean(dfa),np.std(dfa))"
      ],
      "execution_count": null,
      "outputs": [
        {
          "output_type": "stream",
          "text": [
            "normal 0.018976478 0.020292003\n",
            "abnorm 0.032145835 0.029660605\n"
          ],
          "name": "stdout"
        }
      ]
    },
    {
      "cell_type": "code",
      "metadata": {
        "colab": {
          "base_uri": "https://localhost:8080/",
          "height": 265
        },
        "id": "5YQVVbP0QcKe",
        "outputId": "9328125f-cc89-475a-ee9f-6289da593368"
      },
      "source": [
        "import matplotlib.pyplot as plt\n",
        "\n",
        "plt.hist(dfn,bins=25,alpha=0.5,label=\"normal\",density=True)\n",
        "plt.hist(dfa,bins=25,alpha=0.5,label=\"abnorm\",density=True)\n",
        "plt.legend()\n",
        "plt.show()"
      ],
      "execution_count": null,
      "outputs": [
        {
          "output_type": "display_data",
          "data": {
            "image/png": "[encoded data removed]",
            "text/plain": [
              "<Figure size 432x288 with 1 Axes>"
            ]
          },
          "metadata": {
            "tags": [],
            "needs_background": "light"
          }
        }
      ]
    },
    {
      "cell_type": "code",
      "metadata": {
        "colab": {
          "base_uri": "https://localhost:8080/",
          "height": 266
        },
        "id": "54W8twtNQj3_",
        "outputId": "6991421b-45b2-417d-cde4-7b050c4eb6aa"
      },
      "source": [
        "plt.hist(pn,bins=25,alpha=0.5,label=\"normal\",density=True)\n",
        "plt.hist(pa,bins=25,alpha=0.5,label=\"abnorm\",density=True)\n",
        "plt.legend()\n",
        "plt.show()"
      ],
      "execution_count": null,
      "outputs": [
        {
          "output_type": "display_data",
          "data": {
            "image/png": "[encoded data removed]",
            "text/plain": [
              "<Figure size 432x288 with 1 Axes>"
            ]
          },
          "metadata": {
            "tags": [],
            "needs_background": "light"
          }
        }
      ]
    },
    {
      "cell_type": "code",
      "metadata": {
        "colab": {
          "base_uri": "https://localhost:8080/"
        },
        "id": "2TL9SwQIRThk",
        "outputId": "195cf861-65d3-43fb-ad40-40cbd3fcda8c"
      },
      "source": [
        "def dexbyloss(lss):return np.argmin(np.mean((pn-lss)**2,axis=1))\n",
        "minl=np.min(pn,axis=0)\n",
        "maxl=np.max(pn,axis=0)\n",
        "print(minl,maxl)\n",
        "ls=[np.arange(aminl,amaxl,(amaxl-aminl)/9.0001) for aminl,amaxl in zip(minl,maxl)]\n",
        "print(minl,ls,maxl)\n",
        "print(len(ls))"
      ],
      "execution_count": null,
      "outputs": [
        {
          "output_type": "stream",
          "text": [
            "[0.6517416] [1.148728]\n",
            "[0.6517416] [array([0.65174162, 0.70696172, 0.76218182, 0.81740191, 0.87262201,\n",
            "       0.92784211, 0.9830622 , 1.0382823 , 1.09350239, 1.14872249])] [1.148728]\n",
            "1\n"
          ],
          "name": "stdout"
        }
      ]
    },
    {
      "cell_type": "code",
      "metadata": {
        "colab": {
          "base_uri": "https://localhost:8080/"
        },
        "id": "M-6o99TjSJIs",
        "outputId": "0591603f-6474-4180-f52e-d0b62c451c85"
      },
      "source": [
        "dex=np.array([dexbyloss(l0) for l0 in ls[0]])\n",
        "print(dex)"
      ],
      "execution_count": null,
      "outputs": [
        {
          "output_type": "stream",
          "text": [
            "[1370 1370 1379 1379  646  772  146 1464  613  333]\n"
          ],
          "name": "stdout"
        }
      ]
    },
    {
      "cell_type": "code",
      "metadata": {
        "colab": {
          "base_uri": "https://localhost:8080/"
        },
        "id": "G-6EJbPtSdd0",
        "outputId": "e6567ce1-88fe-49f1-c864-259f99e4eb99"
      },
      "source": [
        "topl=np.array([[xn_test[d] for d in dex]])\n",
        "print(topl.shape)\n"
      ],
      "execution_count": null,
      "outputs": [
        {
          "output_type": "stream",
          "text": [
            "(1, 10, 28, 28, 1)\n"
          ],
          "name": "stdout"
        }
      ]
    },
    {
      "cell_type": "code",
      "metadata": {
        "colab": {
          "base_uri": "https://localhost:8080/",
          "height": 80
        },
        "id": "Ne2MIN-iSxpb",
        "outputId": "94eb6923-8750-48bf-ca67-771fea365989"
      },
      "source": [
        "for i,zx in enumerate(topl):\n",
        "  for j,zw in enumerate(zx):\n",
        "\n",
        "    plt.subplot(len(topl),len(zx),1+len(zx)*i+j)\n",
        "    plt.imshow(zw[:,:,0], cmap=plt.get_cmap('gray'))\n",
        "plt.show()"
      ],
      "execution_count": null,
      "outputs": [
        {
          "output_type": "display_data",
          "data": {
            "image/png": "[encoded data removed]",
            "text/plain": [
              "<Figure size 432x288 with 10 Axes>"
            ]
          },
          "metadata": {
            "tags": [],
            "needs_background": "light"
          }
        }
      ]
    },
    {
      "cell_type": "code",
      "metadata": {
        "colab": {
          "base_uri": "https://localhost:8080/"
        },
        "id": "O6YsVm2QYoaN",
        "outputId": "8cde39d3-837b-4a14-da17-b20066e04101"
      },
      "source": [
        "td=np.array([np.argmax(yn_test[d]) for d in dex])\n",
        "print(td)"
      ],
      "execution_count": null,
      "outputs": [
        {
          "output_type": "stream",
          "text": [
            "[1 1 1 1 1 0 0 1 1 1]\n"
          ],
          "name": "stdout"
        }
      ]
    },
    {
      "cell_type": "code",
      "metadata": {
        "id": "qC-5kEXZoz4m"
      },
      "source": [
        "p=model.predict(x_train)\n"
      ],
      "execution_count": null,
      "outputs": []
    },
    {
      "cell_type": "code",
      "metadata": {
        "id": "WeggvG1vaX_a",
        "colab": {
          "base_uri": "https://localhost:8080/"
        },
        "outputId": "ccdc7cdd-875c-4260-f997-29ded0d4c11d"
      },
      "source": [
        "mp=np.mean(p,axis=0)\n",
        "da=np.abs(pa-mp)\n",
        "dn=np.abs(pn-mp)\n",
        "dfa=np.sqrt(np.mean(da**2,axis=1))\n",
        "dfn=np.sqrt(np.mean(dn**2,axis=1))\n",
        "print(dfa.shape,dfn.shape)"
      ],
      "execution_count": null,
      "outputs": [
        {
          "output_type": "stream",
          "text": [
            "(7885,) (2115,)\n"
          ],
          "name": "stdout"
        }
      ]
    },
    {
      "cell_type": "code",
      "metadata": {
        "colab": {
          "base_uri": "https://localhost:8080/"
        },
        "id": "74pcqtEuomht",
        "outputId": "48ab18e2-56e3-4dd5-95c0-c02651cef3ed"
      },
      "source": [
        "print(\"normal\",np.mean(dfn),np.std(dfn))\n",
        "print(\"abnorm\",np.mean(dfa),np.std(dfa))"
      ],
      "execution_count": null,
      "outputs": [
        {
          "output_type": "stream",
          "text": [
            "normal 0.018849088 0.020321868\n",
            "abnorm 0.031691078 0.029361466\n"
          ],
          "name": "stdout"
        }
      ]
    },
    {
      "cell_type": "code",
      "metadata": {
        "colab": {
          "base_uri": "https://localhost:8080/",
          "height": 265
        },
        "id": "UsNvCJXYorqX",
        "outputId": "32231c36-1f8a-435c-dfe1-e9b1dbfaf01b"
      },
      "source": [
        "plt.hist(dfn,bins=25,alpha=0.5,label=\"normal\",density=True)\n",
        "plt.hist(dfa,bins=25,alpha=0.5,label=\"abnorm\",density=True)\n",
        "plt.legend()\n",
        "plt.show()"
      ],
      "execution_count": null,
      "outputs": [
        {
          "output_type": "display_data",
          "data": {
            "image/png": "[encoded data removed]",
            "text/plain": [
              "<Figure size 432x288 with 1 Axes>"
            ]
          },
          "metadata": {
            "tags": [],
            "needs_background": "light"
          }
        }
      ]
    },
    {
      "cell_type": "code",
      "metadata": {
        "colab": {
          "base_uri": "https://localhost:8080/"
        },
        "id": "XNHbWu2hpEo-",
        "outputId": "e2caaf66-53d6-4319-adfa-4e764b7d2fbb"
      },
      "source": [
        "y_score=np.concatenate((dfn,dfa),axis=0)\n",
        "y_true=np.concatenate((np.zeros_like(dfn),np.ones_like(dfa)),axis=0)\n",
        "\n",
        "print(y_true.shape,y_score.shape)"
      ],
      "execution_count": null,
      "outputs": [
        {
          "output_type": "stream",
          "text": [
            "(10000,) (10000,)\n"
          ],
          "name": "stdout"
        }
      ]
    },
    {
      "cell_type": "code",
      "metadata": {
        "colab": {
          "base_uri": "https://localhost:8080/"
        },
        "id": "E7U2nXJdqXG6",
        "outputId": "3cd5e9d0-636e-412a-8773-9d0b7912f98e"
      },
      "source": [
        "from sklearn.metrics import roc_auc_score as rauc\n",
        "\n",
        "auc=rauc(y_true,y_score)\n",
        "print(auc)"
      ],
      "execution_count": null,
      "outputs": [
        {
          "output_type": "stream",
          "text": [
            "0.6560880326082231\n"
          ],
          "name": "stdout"
        }
      ]
    },
    {
      "cell_type": "code",
      "metadata": {
        "id": "Ga6UNtw7qj-x"
      },
      "source": [
        ""
      ],
      "execution_count": null,
      "outputs": []
    }
  ]
}