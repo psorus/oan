{
  "nbformat": 4,
  "nbformat_minor": 0,
  "metadata": {
    "colab": {
      "name": "mnist on the line 2d",
      "provenance": [],
      "collapsed_sections": []
    },
    "kernelspec": {
      "name": "python3",
      "display_name": "Python 3"
    }
  },
  "cells": [
    {
      "cell_type": "markdown",
      "metadata": {
        "id": "ZzPU36WEDsqa"
      },
      "source": [
        "very loosely based on https://keras.io/examples/vision/mnist_convnet/"
      ]
    },
    {
      "cell_type": "code",
      "metadata": {
        "id": "3iB5wvjpWexF"
      },
      "source": [
        "outdim=2"
      ],
      "execution_count": null,
      "outputs": []
    },
    {
      "cell_type": "code",
      "metadata": {
        "id": "HRhV-0piDPyl"
      },
      "source": [
        "import numpy as np\n",
        "from tensorflow import keras\n",
        "from tensorflow.keras import layers\n",
        "from tensorflow.keras import backend as K"
      ],
      "execution_count": null,
      "outputs": []
    },
    {
      "cell_type": "code",
      "metadata": {
        "colab": {
          "base_uri": "https://localhost:8080/"
        },
        "id": "OpkCj5gZDZxP",
        "outputId": "b3ac59d7-1d44-4a6e-9464-5b34e1a9c355"
      },
      "source": [
        "# Model / data parameters\n",
        "num_classes = 10\n",
        "input_shape = (28, 28, 1)\n",
        "\n",
        "# the data, split between train and test sets\n",
        "(x_train, y_train), (x_test, y_test) = keras.datasets.mnist.load_data()\n",
        "\n",
        "# Scale images to the [0, 1] range\n",
        "x_train = x_train.astype(\"float32\") / 255\n",
        "x_test = x_test.astype(\"float32\") / 255\n",
        "# Make sure images have shape (28, 28, 1)\n",
        "bx_train = np.expand_dims(x_train, -1)\n",
        "bx_test = np.expand_dims(x_test, -1)\n",
        "print(\"x_train shape:\", bx_train.shape)\n",
        "print(bx_train.shape[0], \"train samples\")\n",
        "print(bx_test.shape[0], \"test samples\")\n",
        "\n",
        "\n",
        "# convert class vectors to binary class matrices\n",
        "by_train = keras.utils.to_categorical(y_train, num_classes)\n",
        "by_test = keras.utils.to_categorical(y_test, num_classes)"
      ],
      "execution_count": null,
      "outputs": [
        {
          "output_type": "stream",
          "text": [
            "x_train shape: (60000, 28, 28, 1)\n",
            "60000 train samples\n",
            "10000 test samples\n"
          ],
          "name": "stdout"
        }
      ]
    },
    {
      "cell_type": "code",
      "metadata": {
        "colab": {
          "base_uri": "https://localhost:8080/"
        },
        "id": "Hjhm1Q8lIBs2",
        "outputId": "df5d98c3-11a9-4617-defe-2eae76d217e3"
      },
      "source": [
        "classes=[6,9]\n",
        "x_train=np.array(\n",
        "    [xx for xx,yy in zip(bx_train,by_train) if\n",
        "      np.any([yy[cc] for cc in classes])\n",
        "    ])\n",
        "y_train=np.array([yy for yy in by_train if np.any([yy[cc] for cc in classes])])\n",
        "print(x_train.shape)\n",
        "print(y_train.shape)\n",
        "\n",
        "xa_test=np.array(\n",
        "    [xx for xx,yy in zip(bx_test,by_test) if\n",
        "      not np.any([yy[cc] for cc in classes])\n",
        "    ])\n",
        "ya_test=np.array([yy for yy in by_test if not np.any([yy[cc] for cc in classes])])\n",
        "print(xa_test.shape)\n",
        "print(ya_test.shape)\n",
        "xn_test=np.array(\n",
        "    [xx for xx,yy in zip(bx_test,by_test) if\n",
        "      np.any([yy[cc] for cc in classes])\n",
        "    ])\n",
        "yn_test=np.array([yy for yy in by_test if np.any([yy[cc] for cc in classes])])\n",
        "print(xn_test.shape)\n",
        "print(yn_test.shape)\n",
        "\n"
      ],
      "execution_count": null,
      "outputs": [
        {
          "output_type": "stream",
          "text": [
            "(11867, 28, 28, 1)\n",
            "(11867, 10)\n",
            "(8033, 28, 28, 1)\n",
            "(8033, 10)\n",
            "(1967, 28, 28, 1)\n",
            "(1967, 10)\n"
          ],
          "name": "stdout"
        }
      ]
    },
    {
      "cell_type": "code",
      "metadata": {
        "id": "jJz0agqiQuYp"
      },
      "source": [
        "def loss(outdim):\n",
        "    if outdim==1:\n",
        "        def lss(a,b):\n",
        "            q=b\n",
        "            return K.mean((q-1)**2)\n",
        "        return lss\n",
        "    def lss(a,b):\n",
        "        q=b\n",
        "        pd=[i for i in range(len(q.shape))]\n",
        "        pd.remove(pd[-1])\n",
        "        pd.insert(0,len(pd))\n",
        "        #print(pd)\n",
        "        q=K.permute_dimensions(q,tuple(pd))\n",
        "        #exit()\n",
        "\n",
        "        #print(q.shape)\n",
        "\n",
        "        adl=None\n",
        "\n",
        "        for i in range(outdim):\n",
        "            for j in range(i+1,outdim):\n",
        "              ac=K.abs(K.mean(((q[i]-1)*(q[j]-1))))\n",
        "              if adl is None:\n",
        "                  adl=ac\n",
        "              else:\n",
        "                  adl+=ac\n",
        "\n",
        "        return adl\n",
        "    return lss"
      ],
      "execution_count": null,
      "outputs": []
    },
    {
      "cell_type": "code",
      "metadata": {
        "id": "cguVrdVrEtLl",
        "colab": {
          "base_uri": "https://localhost:8080/"
        },
        "outputId": "afda05ce-af6a-49a5-b25d-209c91ec7ded"
      },
      "source": [
        "model = keras.Sequential(\n",
        "    [\n",
        "        keras.Input(shape=input_shape),\n",
        "        layers.Conv2D(32, kernel_size=(7, 7), activation=\"relu\",use_bias=False),\n",
        "        layers.MaxPooling2D(pool_size=(2, 2)),\n",
        "        layers.Conv2D(64, kernel_size=(4, 4), activation=\"relu\",use_bias=False),\n",
        "        layers.Conv2D(16, kernel_size=(4, 4), activation=\"relu\",use_bias=False),\n",
        "        layers.Conv2D(4, kernel_size=(2, 2), activation=\"relu\",use_bias=False),\n",
        "        layers.MaxPooling2D(pool_size=(2, 2)),\n",
        "        layers.Conv2D(4,kernel_size=(1,1),activation=\"linear\",padding=\"same\",use_bias=False),\n",
        "        layers.Flatten(),\n",
        "        layers.Dense(outdim,use_bias=False)\n",
        "    ]\n",
        ")\n",
        "\n",
        "model.summary()"
      ],
      "execution_count": null,
      "outputs": [
        {
          "output_type": "stream",
          "text": [
            "WARNING:tensorflow:Please add `keras.layers.InputLayer` instead of `keras.Input` to Sequential model. `keras.Input` is intended to be used by Functional model.\n",
            "Model: \"sequential\"\n",
            "_________________________________________________________________\n",
            "Layer (type)                 Output Shape              Param #   \n",
            "=================================================================\n",
            "conv2d (Conv2D)              (None, 22, 22, 32)        1568      \n",
            "_________________________________________________________________\n",
            "max_pooling2d (MaxPooling2D) (None, 11, 11, 32)        0         \n",
            "_________________________________________________________________\n",
            "conv2d_1 (Conv2D)            (None, 8, 8, 64)          32768     \n",
            "_________________________________________________________________\n",
            "conv2d_2 (Conv2D)            (None, 5, 5, 16)          16384     \n",
            "_________________________________________________________________\n",
            "conv2d_3 (Conv2D)            (None, 4, 4, 4)           256       \n",
            "_________________________________________________________________\n",
            "max_pooling2d_1 (MaxPooling2 (None, 2, 2, 4)           0         \n",
            "_________________________________________________________________\n",
            "conv2d_4 (Conv2D)            (None, 2, 2, 4)           16        \n",
            "_________________________________________________________________\n",
            "flatten (Flatten)            (None, 16)                0         \n",
            "_________________________________________________________________\n",
            "dense (Dense)                (None, 2)                 32        \n",
            "=================================================================\n",
            "Total params: 51,024\n",
            "Trainable params: 51,024\n",
            "Non-trainable params: 0\n",
            "_________________________________________________________________\n"
          ],
          "name": "stdout"
        }
      ]
    },
    {
      "cell_type": "code",
      "metadata": {
        "id": "9qbpq3qAEfy9",
        "colab": {
          "base_uri": "https://localhost:8080/"
        },
        "outputId": "bb74cb47-5884-4637-d740-1ae594d9b58d"
      },
      "source": [
        "batch_size = 128\n",
        "epochs = 5\n",
        "\n",
        "model.compile(loss=loss(outdim), optimizer=\"adam\", metrics=[])\n",
        "\n",
        "model.fit(x_train,\n",
        "          np.ones_like(x_train),\n",
        "          batch_size=batch_size,\n",
        "          epochs=epochs,\n",
        "          validation_split=0.1)"
      ],
      "execution_count": null,
      "outputs": [
        {
          "output_type": "stream",
          "text": [
            "Epoch 1/5\n",
            "84/84 [==============================] - 12s 131ms/step - loss: 0.0892 - val_loss: 0.0079\n",
            "Epoch 2/5\n",
            "84/84 [==============================] - 11s 127ms/step - loss: 0.0203 - val_loss: 0.0067\n",
            "Epoch 3/5\n",
            "84/84 [==============================] - 11s 126ms/step - loss: 0.0108 - val_loss: 0.0094\n",
            "Epoch 4/5\n",
            "84/84 [==============================] - 11s 127ms/step - loss: 0.0086 - val_loss: 0.0052\n",
            "Epoch 5/5\n",
            "84/84 [==============================] - 11s 127ms/step - loss: 0.0072 - val_loss: 0.0164\n"
          ],
          "name": "stdout"
        },
        {
          "output_type": "execute_result",
          "data": {
            "text/plain": [
              "<tensorflow.python.keras.callbacks.History at 0x7f68ef67c6d0>"
            ]
          },
          "metadata": {
            "tags": []
          },
          "execution_count": 9
        }
      ]
    },
    {
      "cell_type": "code",
      "metadata": {
        "id": "OKQ91orUVHAz"
      },
      "source": [
        "pa=model.predict(xa_test)\n",
        "pn=model.predict(xn_test)"
      ],
      "execution_count": null,
      "outputs": []
    },
    {
      "cell_type": "code",
      "metadata": {
        "colab": {
          "base_uri": "https://localhost:8080/"
        },
        "id": "q8u_q-lpqWcL",
        "outputId": "33a0a5dd-459c-41fc-aec3-7bd4e531ad82"
      },
      "source": [
        "print(pa.shape)\n",
        "print(pn.shape)"
      ],
      "execution_count": null,
      "outputs": [
        {
          "output_type": "stream",
          "text": [
            "(8033, 2)\n",
            "(1967, 2)\n"
          ],
          "name": "stdout"
        }
      ]
    },
    {
      "cell_type": "code",
      "metadata": {
        "id": "E6maTAvltWVZ",
        "colab": {
          "base_uri": "https://localhost:8080/"
        },
        "outputId": "f7549502-061f-4da4-e54e-e63a67abca72"
      },
      "source": [
        "da=np.abs(pa-1)\n",
        "dn=np.abs(pn-1)\n",
        "dfa=np.sqrt(np.mean(da**2,axis=1))\n",
        "dfn=np.sqrt(np.mean(dn**2,axis=1))\n",
        "print(dfa.shape,dfn.shape)"
      ],
      "execution_count": null,
      "outputs": [
        {
          "output_type": "stream",
          "text": [
            "(8033,) (1967,)\n"
          ],
          "name": "stdout"
        }
      ]
    },
    {
      "cell_type": "code",
      "metadata": {
        "colab": {
          "base_uri": "https://localhost:8080/"
        },
        "id": "3Yn0uPZ-QSZU",
        "outputId": "7dc79634-e50c-4a04-c5ce-2057f0c8f20d"
      },
      "source": [
        "print(\"normal\",np.mean(dfn),np.std(dfn))\n",
        "print(\"abnorm\",np.mean(dfa),np.std(dfa))"
      ],
      "execution_count": null,
      "outputs": [
        {
          "output_type": "stream",
          "text": [
            "normal 0.34334755 0.10430497\n",
            "abnorm 0.3984668 0.11781342\n"
          ],
          "name": "stdout"
        }
      ]
    },
    {
      "cell_type": "code",
      "metadata": {
        "colab": {
          "base_uri": "https://localhost:8080/",
          "height": 265
        },
        "id": "5YQVVbP0QcKe",
        "outputId": "9ac409f8-2580-400e-9d3b-a7eb505c69cd"
      },
      "source": [
        "import matplotlib.pyplot as plt\n",
        "\n",
        "plt.hist(dfn,bins=25,alpha=0.5,label=\"normal\",density=True)\n",
        "plt.hist(dfa,bins=25,alpha=0.5,label=\"abnorm\",density=True)\n",
        "plt.legend()\n",
        "plt.show()"
      ],
      "execution_count": null,
      "outputs": [
        {
          "output_type": "display_data",
          "data": {
            "image/png": "[encoded data removed]",
            "text/plain": [
              "<Figure size 432x288 with 1 Axes>"
            ]
          },
          "metadata": {
            "tags": [],
            "needs_background": "light"
          }
        }
      ]
    },
    {
      "cell_type": "code",
      "metadata": {
        "colab": {
          "base_uri": "https://localhost:8080/",
          "height": 265
        },
        "id": "54W8twtNQj3_",
        "outputId": "9590cbbb-cf20-4bec-f428-be9b1e8a8dcb"
      },
      "source": [
        "plt.hist(pn,bins=25,alpha=0.5,label=\"normal\",density=True)\n",
        "plt.hist(pa,bins=25,alpha=0.5,label=\"abnorm\",density=True)\n",
        "plt.legend()\n",
        "plt.show()"
      ],
      "execution_count": null,
      "outputs": [
        {
          "output_type": "display_data",
          "data": {
            "image/png": "[encoded data removed]",
            "text/plain": [
              "<Figure size 432x288 with 1 Axes>"
            ]
          },
          "metadata": {
            "tags": [],
            "needs_background": "light"
          }
        }
      ]
    },
    {
      "cell_type": "code",
      "metadata": {
        "colab": {
          "base_uri": "https://localhost:8080/"
        },
        "id": "2TL9SwQIRThk",
        "outputId": "67c4ddd5-b258-4494-a014-c75ec78aeb02"
      },
      "source": [
        "def dexbyloss(lss):return np.argmin(np.mean((pn-lss)**2,axis=1))\n",
        "minl=np.min(pn,axis=0)\n",
        "maxl=np.max(pn,axis=0)\n",
        "print(minl,maxl)\n",
        "ls=[np.arange(aminl,amaxl,(amaxl-aminl)/9.0001) for aminl,amaxl in zip(minl,maxl)]\n",
        "print(minl,ls,maxl)\n",
        "print(len(ls))"
      ],
      "execution_count": null,
      "outputs": [
        {
          "output_type": "stream",
          "text": [
            "[0.04167964 0.5123213 ] [1.4711146 1.9932936]\n",
            "[0.04167964 0.5123213 ] [array([0.04167964, 0.20050398, 0.35932833, 0.51815268, 0.67697703,\n",
            "       0.83580138, 0.99462572, 1.15345007, 1.31227442, 1.47109877]), array([0.51232129, 0.67687194, 0.84142259, 1.00597324, 1.17052389,\n",
            "       1.33507454, 1.49962518, 1.66417583, 1.82872648, 1.99327713])] [1.4711146 1.9932936]\n",
            "2\n"
          ],
          "name": "stdout"
        }
      ]
    },
    {
      "cell_type": "code",
      "metadata": {
        "colab": {
          "base_uri": "https://localhost:8080/"
        },
        "id": "M-6o99TjSJIs",
        "outputId": "d1110529-3b3a-417f-a619-abb2e3b00978"
      },
      "source": [
        "dex=[[dexbyloss([l0,l1]) for l1 in ls[1]] for l0 in ls[0]]\n",
        "print(dex)"
      ],
      "execution_count": null,
      "outputs": [
        {
          "output_type": "stream",
          "text": [
            "[[582, 582, 681, 681, 223, 223, 223, 223, 223, 784], [395, 582, 392, 174, 223, 223, 223, 223, 784, 784], [728, 1285, 878, 589, 1902, 223, 328, 784, 784, 784], [472, 472, 868, 122, 630, 50, 328, 784, 784, 784], [472, 629, 629, 212, 12, 5, 1526, 784, 784, 1212], [629, 629, 609, 609, 408, 773, 1575, 1196, 1212, 1200], [629, 609, 609, 609, 225, 145, 1170, 1182, 1200, 1558], [609, 609, 609, 225, 225, 666, 564, 688, 1364, 1558], [609, 609, 225, 225, 666, 418, 230, 403, 682, 1677], [609, 225, 225, 225, 230, 230, 230, 1191, 273, 1173]]\n"
          ],
          "name": "stdout"
        }
      ]
    },
    {
      "cell_type": "code",
      "metadata": {
        "colab": {
          "base_uri": "https://localhost:8080/"
        },
        "id": "G-6EJbPtSdd0",
        "outputId": "0535dcf6-ab47-4f36-d1ca-3ba57f3a97ce"
      },
      "source": [
        "topl=np.array([[xn_test[d] for d in dd] for dd in dex])\n",
        "print(topl.shape)\n"
      ],
      "execution_count": null,
      "outputs": [
        {
          "output_type": "stream",
          "text": [
            "(10, 10, 28, 28, 1)\n"
          ],
          "name": "stdout"
        }
      ]
    },
    {
      "cell_type": "code",
      "metadata": {
        "colab": {
          "base_uri": "https://localhost:8080/",
          "height": 269
        },
        "id": "Ne2MIN-iSxpb",
        "outputId": "c47e7ce5-9990-422d-ba00-65f821a4c658"
      },
      "source": [
        "for i,zx in enumerate(topl):\n",
        "  for j,zw in enumerate(zx):\n",
        "\n",
        "    plt.subplot(len(topl),len(zx),1+len(zx)*i+j)\n",
        "    plt.imshow(zw[:,:,0], cmap=plt.get_cmap('gray'))\n",
        "plt.show()"
      ],
      "execution_count": null,
      "outputs": [
        {
          "output_type": "display_data",
          "data": {
            "image/png": "[encoded data removed]",
            "text/plain": [
              "<Figure size 432x288 with 100 Axes>"
            ]
          },
          "metadata": {
            "tags": [],
            "needs_background": "light"
          }
        }
      ]
    },
    {
      "cell_type": "code",
      "metadata": {
        "id": "5WCFXDeJTibn",
        "colab": {
          "base_uri": "https://localhost:8080/",
          "height": 269
        },
        "outputId": "3cd57d64-2d3d-4b5b-b326-938c25d2b836"
      },
      "source": [
        "\n",
        "addon=np.zeros(len(pn),dtype=\"float\")\n",
        "def dexbyloss(lss):\n",
        "  dex= np.argmin(np.mean((pn-lss)**2,axis=1)+addon)\n",
        "  addon[dex]=1000.0\n",
        "  return dex\n",
        "\n",
        "ls=[np.arange(aminl,amaxl,(amaxl-aminl)/9.0001) for aminl,amaxl in zip(minl,maxl)]\n",
        "dex=[[dexbyloss([l0,l1]) for l1 in ls[1]] for l0 in ls[0]]\n",
        "\n",
        "topl=np.array([[xn_test[d] for d in dd] for dd in dex])\n",
        "\n",
        "for i,zx in enumerate(topl):\n",
        "  for j,zw in enumerate(zx):\n",
        "\n",
        "    plt.subplot(len(topl),len(zx),1+len(zx)*i+j)\n",
        "    plt.imshow(zw[:,:,0], cmap=plt.get_cmap('gray'))\n",
        "plt.show()"
      ],
      "execution_count": null,
      "outputs": [
        {
          "output_type": "display_data",
          "data": {
            "image/png": "[encoded data removed]",
            "text/plain": [
              "<Figure size 432x288 with 100 Axes>"
            ]
          },
          "metadata": {
            "tags": [],
            "needs_background": "light"
          }
        }
      ]
    },
    {
      "cell_type": "code",
      "metadata": {
        "colab": {
          "base_uri": "https://localhost:8080/"
        },
        "id": "O6YsVm2QYoaN",
        "outputId": "d98e41f0-3214-4b8d-98d6-fdb59074d0c2"
      },
      "source": [
        "td=np.array([[np.argmax(yn_test[d]) for d in dd] for dd in dex])\n",
        "print(td)"
      ],
      "execution_count": null,
      "outputs": [
        {
          "output_type": "stream",
          "text": [
            "[[9 9 6 6 9 9 6 9 9 6]\n",
            " [6 6 6 6 6 9 9 9 6 9]\n",
            " [6 6 9 9 9 9 9 9 6 9]\n",
            " [9 6 6 9 9 9 9 9 9 9]\n",
            " [6 9 9 6 6 9 9 9 6 9]\n",
            " [6 9 6 9 6 9 9 6 9 6]\n",
            " [6 6 6 6 9 9 9 9 6 6]\n",
            " [6 6 6 6 6 6 9 6 6 6]\n",
            " [6 6 9 9 9 9 6 6 6 6]\n",
            " [6 6 6 6 6 6 6 6 6 6]]\n"
          ],
          "name": "stdout"
        }
      ]
    },
    {
      "cell_type": "code",
      "metadata": {
        "colab": {
          "base_uri": "https://localhost:8080/"
        },
        "id": "-QvLhcQxaOxJ",
        "outputId": "1755449a-1270-458c-faee-054a85d906fb"
      },
      "source": [
        "print(np.mean(td,axis=0),np.mean(np.std(td,axis=0)))\n",
        "print(np.mean(td,axis=1),np.mean(np.std(td,axis=1)))"
      ],
      "execution_count": null,
      "outputs": [
        {
          "output_type": "stream",
          "text": [
            "[6.6 6.9 6.9 7.2 7.5 8.4 8.1 7.8 6.9 7.2] 1.3808172370956728\n",
            "[7.8 7.2 8.1 8.4 7.8 7.5 7.2 6.3 7.2 6. ] 1.2323241936836289\n"
          ],
          "name": "stdout"
        }
      ]
    },
    {
      "cell_type": "code",
      "metadata": {
        "id": "WeggvG1vaX_a"
      },
      "source": [
        ""
      ],
      "execution_count": null,
      "outputs": []
    }
  ]
}