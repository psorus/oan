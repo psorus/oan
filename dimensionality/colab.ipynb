{
  "nbformat": 4,
  "nbformat_minor": 0,
  "metadata": {
    "colab": {
      "name": "mnist dim",
      "provenance": [],
      "collapsed_sections": []
    },
    "kernelspec": {
      "name": "python3",
      "display_name": "Python 3"
    }
  },
  "cells": [
    {
      "cell_type": "markdown",
      "metadata": {
        "id": "ZzPU36WEDsqa"
      },
      "source": [
        "very loosely based on https://keras.io/examples/vision/mnist_convnet/"
      ]
    },
    {
      "cell_type": "code",
      "metadata": {
        "id": "3iB5wvjpWexF"
      },
      "source": [
        "outdim=1\n",
        "dm=False\n",
        "\n",
        "\n",
        "if dm:\n",
        "  denses=[100,50,20]\n",
        "else:\n",
        "  denses=[]\n"
      ],
      "execution_count": null,
      "outputs": []
    },
    {
      "cell_type": "code",
      "metadata": {
        "id": "HRhV-0piDPyl"
      },
      "source": [
        "import numpy as np\n",
        "from tensorflow import keras\n",
        "from tensorflow.keras import layers\n",
        "from tensorflow.keras import backend as K"
      ],
      "execution_count": null,
      "outputs": []
    },
    {
      "cell_type": "code",
      "metadata": {
        "colab": {
          "base_uri": "https://localhost:8080/"
        },
        "id": "OpkCj5gZDZxP",
        "outputId": "8b9e7c78-3760-40f8-8d06-eeed9fda5531"
      },
      "source": [
        "# Model / data parameters\n",
        "num_classes = 10\n",
        "input_shape = (28, 28, 1)\n",
        "\n",
        "# the data, split between train and test sets\n",
        "(x_train, y_train), (x_test, y_test) = keras.datasets.mnist.load_data()\n",
        "\n",
        "# Scale images to the [0, 1] range\n",
        "x_train = x_train.astype(\"float32\") / 255\n",
        "x_test = x_test.astype(\"float32\") / 255\n",
        "# Make sure images have shape (28, 28, 1)\n",
        "bx_train = np.expand_dims(x_train, -1)\n",
        "bx_test = np.expand_dims(x_test, -1)\n",
        "print(\"x_train shape:\", bx_train.shape)\n",
        "print(bx_train.shape[0], \"train samples\")\n",
        "print(bx_test.shape[0], \"test samples\")\n",
        "\n",
        "\n",
        "# convert class vectors to binary class matrices\n",
        "by_train = keras.utils.to_categorical(y_train, num_classes)\n",
        "by_test = keras.utils.to_categorical(y_test, num_classes)"
      ],
      "execution_count": null,
      "outputs": [
        {
          "output_type": "stream",
          "text": [
            "x_train shape: (60000, 28, 28, 1)\n",
            "60000 train samples\n",
            "10000 test samples\n"
          ],
          "name": "stdout"
        }
      ]
    },
    {
      "cell_type": "code",
      "metadata": {
        "colab": {
          "base_uri": "https://localhost:8080/"
        },
        "id": "Hjhm1Q8lIBs2",
        "outputId": "3190c036-be00-4b11-aefc-2d5893429b6a"
      },
      "source": [
        "classes=[7]\n",
        "x_train=np.array(\n",
        "    [xx for xx,yy in zip(bx_train,by_train) if\n",
        "      np.any([yy[cc] for cc in classes])\n",
        "    ])\n",
        "y_train=np.array([yy for yy in by_train if np.any([yy[cc] for cc in classes])])\n",
        "print(x_train.shape)\n",
        "print(y_train.shape)\n",
        "\n",
        "xa_test=np.array(\n",
        "    [xx for xx,yy in zip(bx_test,by_test) if\n",
        "      not np.any([yy[cc] for cc in classes])\n",
        "    ])\n",
        "ya_test=np.array([yy for yy in by_test if not np.any([yy[cc] for cc in classes])])\n",
        "print(xa_test.shape)\n",
        "print(ya_test.shape)\n",
        "xn_test=np.array(\n",
        "    [xx for xx,yy in zip(bx_test,by_test) if\n",
        "      np.any([yy[cc] for cc in classes])\n",
        "    ])\n",
        "yn_test=np.array([yy for yy in by_test if np.any([yy[cc] for cc in classes])])\n",
        "print(xn_test.shape)\n",
        "print(yn_test.shape)\n",
        "\n"
      ],
      "execution_count": null,
      "outputs": [
        {
          "output_type": "stream",
          "text": [
            "(6265, 28, 28, 1)\n",
            "(6265, 10)\n",
            "(8972, 28, 28, 1)\n",
            "(8972, 10)\n",
            "(1028, 28, 28, 1)\n",
            "(1028, 10)\n"
          ],
          "name": "stdout"
        }
      ]
    },
    {
      "cell_type": "code",
      "metadata": {
        "id": "jJz0agqiQuYp"
      },
      "source": [
        "def loss(outdim):\n",
        "    if outdim==1:\n",
        "        def lss(a,b):\n",
        "            q=b\n",
        "            return K.mean((q-1)**2)\n",
        "        return lss\n",
        "    def lss(a,b):\n",
        "        q=b\n",
        "        pd=[i for i in range(len(q.shape))]\n",
        "        pd.remove(pd[-1])\n",
        "        pd.insert(0,len(pd))\n",
        "        #print(pd)\n",
        "        q=K.permute_dimensions(q,tuple(pd))\n",
        "        #exit()\n",
        "\n",
        "        #print(q.shape)\n",
        "\n",
        "        adl=None\n",
        "\n",
        "        for i in range(outdim):\n",
        "            for j in range(i+1,outdim):\n",
        "              ac=K.abs(K.mean(((q[i]-1)*(q[j]-1))))\n",
        "              if adl is None:\n",
        "                  adl=ac\n",
        "              else:\n",
        "                  adl+=ac\n",
        "\n",
        "        return adl\n",
        "    return lss"
      ],
      "execution_count": null,
      "outputs": []
    },
    {
      "cell_type": "code",
      "metadata": {
        "id": "cguVrdVrEtLl",
        "colab": {
          "base_uri": "https://localhost:8080/"
        },
        "outputId": "3226190c-859b-4b08-a320-48c77434588c"
      },
      "source": [
        "sb=[layers.Dense(dd,use_bias=False) for dd in denses]\n",
        "model = keras.Sequential(\n",
        "    [\n",
        "        keras.Input(shape=input_shape),*sb,\n",
        "        layers.Flatten(),\n",
        "        layers.Dense(outdim,use_bias=False)\n",
        "    ]\n",
        ")\n",
        "\n",
        "model.summary()"
      ],
      "execution_count": null,
      "outputs": [
        {
          "output_type": "stream",
          "text": [
            "WARNING:tensorflow:Please add `keras.layers.InputLayer` instead of `keras.Input` to Sequential model. `keras.Input` is intended to be used by Functional model.\n",
            "Model: \"sequential_1\"\n",
            "_________________________________________________________________\n",
            "Layer (type)                 Output Shape              Param #   \n",
            "=================================================================\n",
            "dense_1 (Dense)              (None, 28, 28, 100)       100       \n",
            "_________________________________________________________________\n",
            "dense_2 (Dense)              (None, 28, 28, 50)        5000      \n",
            "_________________________________________________________________\n",
            "dense_3 (Dense)              (None, 28, 28, 20)        1000      \n",
            "_________________________________________________________________\n",
            "flatten_1 (Flatten)          (None, 15680)             0         \n",
            "_________________________________________________________________\n",
            "dense_4 (Dense)              (None, 1)                 15680     \n",
            "=================================================================\n",
            "Total params: 21,780\n",
            "Trainable params: 21,780\n",
            "Non-trainable params: 0\n",
            "_________________________________________________________________\n"
          ],
          "name": "stdout"
        }
      ]
    },
    {
      "cell_type": "code",
      "metadata": {
        "id": "9qbpq3qAEfy9",
        "colab": {
          "base_uri": "https://localhost:8080/"
        },
        "outputId": "ae3dd932-4757-46dc-b56e-c13338b3143e"
      },
      "source": [
        "batch_size = 128\n",
        "epochs = 5\n",
        "\n",
        "model.compile(loss=loss(outdim), optimizer=\"adam\", metrics=[])\n",
        "\n",
        "model.fit(x_train,\n",
        "          np.ones_like(x_train),\n",
        "          batch_size=batch_size,\n",
        "          epochs=epochs,\n",
        "          validation_split=0.1)"
      ],
      "execution_count": null,
      "outputs": [
        {
          "output_type": "stream",
          "text": [
            "Epoch 1/5\n",
            "45/45 [==============================] - 6s 126ms/step - loss: 0.1028 - val_loss: 0.0406\n",
            "Epoch 2/5\n",
            "45/45 [==============================] - 5s 121ms/step - loss: 0.0473 - val_loss: 0.0401\n",
            "Epoch 3/5\n",
            "45/45 [==============================] - 5s 122ms/step - loss: 0.0462 - val_loss: 0.0401\n",
            "Epoch 4/5\n",
            "45/45 [==============================] - 5s 121ms/step - loss: 0.0449 - val_loss: 0.0393\n",
            "Epoch 5/5\n",
            "45/45 [==============================] - 5s 122ms/step - loss: 0.0435 - val_loss: 0.0382\n"
          ],
          "name": "stdout"
        },
        {
          "output_type": "execute_result",
          "data": {
            "text/plain": [
              "<tensorflow.python.keras.callbacks.History at 0x7fc3e4ce9e90>"
            ]
          },
          "metadata": {
            "tags": []
          },
          "execution_count": 25
        }
      ]
    },
    {
      "cell_type": "code",
      "metadata": {
        "id": "OKQ91orUVHAz"
      },
      "source": [
        "pa=model.predict(xa_test)\n",
        "pn=model.predict(xn_test)"
      ],
      "execution_count": null,
      "outputs": []
    },
    {
      "cell_type": "code",
      "metadata": {
        "id": "q8u_q-lpqWcL",
        "colab": {
          "base_uri": "https://localhost:8080/"
        },
        "outputId": "8ceddc06-b57d-45ca-ebe5-e9f3e47790cd"
      },
      "source": [
        "print(pa.shape)\n",
        "print(pn.shape)"
      ],
      "execution_count": null,
      "outputs": [
        {
          "output_type": "stream",
          "text": [
            "(8972, 1)\n",
            "(1028, 1)\n"
          ],
          "name": "stdout"
        }
      ]
    },
    {
      "cell_type": "code",
      "metadata": {
        "id": "54W8twtNQj3_",
        "colab": {
          "base_uri": "https://localhost:8080/",
          "height": 265
        },
        "outputId": "d27fcf6e-1235-4463-d087-746088efb596"
      },
      "source": [
        "import matplotlib.pyplot as plt\n",
        "plt.hist(pn,bins=25,alpha=0.5,label=\"normal\",density=True)\n",
        "plt.hist(pa,bins=25,alpha=0.5,label=\"abnorm\",density=True)\n",
        "plt.legend()\n",
        "plt.show()"
      ],
      "execution_count": null,
      "outputs": [
        {
          "output_type": "display_data",
          "data": {
            "image/png": "[encoded data removed]",
            "text/plain": [
              "<Figure size 432x288 with 1 Axes>"
            ]
          },
          "metadata": {
            "tags": [],
            "needs_background": "light"
          }
        }
      ]
    },
    {
      "cell_type": "code",
      "metadata": {
        "id": "qC-5kEXZoz4m"
      },
      "source": [
        "p=model.predict(x_train)\n"
      ],
      "execution_count": null,
      "outputs": []
    },
    {
      "cell_type": "code",
      "metadata": {
        "id": "WeggvG1vaX_a",
        "colab": {
          "base_uri": "https://localhost:8080/"
        },
        "outputId": "27f4087c-4b2c-40f8-da23-f7f8b93cf419"
      },
      "source": [
        "mp=np.mean(p,axis=0)\n",
        "da=np.abs(pa-mp)\n",
        "dn=np.abs(pn-mp)\n",
        "dfa=np.sqrt(np.mean(da**2,axis=1))\n",
        "dfn=np.sqrt(np.mean(dn**2,axis=1))\n",
        "print(dfa.shape,dfn.shape)"
      ],
      "execution_count": null,
      "outputs": [
        {
          "output_type": "stream",
          "text": [
            "(8972,) (1028,)\n"
          ],
          "name": "stdout"
        }
      ]
    },
    {
      "cell_type": "code",
      "metadata": {
        "id": "74pcqtEuomht",
        "colab": {
          "base_uri": "https://localhost:8080/"
        },
        "outputId": "ab2a3626-fcaf-48c6-f80c-ff7e9bcddba2"
      },
      "source": [
        "print(\"normal\",np.mean(dfn),np.std(dfn))\n",
        "print(\"abnorm\",np.mean(dfa),np.std(dfa))"
      ],
      "execution_count": null,
      "outputs": [
        {
          "output_type": "stream",
          "text": [
            "normal 0.16109134 0.12400485\n",
            "abnorm 0.25560522 0.19054215\n"
          ],
          "name": "stdout"
        }
      ]
    },
    {
      "cell_type": "code",
      "metadata": {
        "id": "UsNvCJXYorqX",
        "colab": {
          "base_uri": "https://localhost:8080/",
          "height": 265
        },
        "outputId": "bde7581e-cb8d-4f1e-9908-f612f81e6c10"
      },
      "source": [
        "plt.hist(dfn,bins=25,alpha=0.5,label=\"normal\",density=True)\n",
        "plt.hist(dfa,bins=25,alpha=0.5,label=\"abnorm\",density=True)\n",
        "plt.legend()\n",
        "plt.show()"
      ],
      "execution_count": null,
      "outputs": [
        {
          "output_type": "display_data",
          "data": {
            "image/png": "[encoded data removed]",
            "text/plain": [
              "<Figure size 432x288 with 1 Axes>"
            ]
          },
          "metadata": {
            "tags": [],
            "needs_background": "light"
          }
        }
      ]
    },
    {
      "cell_type": "code",
      "metadata": {
        "id": "XNHbWu2hpEo-",
        "colab": {
          "base_uri": "https://localhost:8080/"
        },
        "outputId": "4d0c9cb0-15c6-4059-ff03-d8ea8cbd4654"
      },
      "source": [
        "y_score=np.concatenate((dfn,dfa),axis=0)\n",
        "y_true=np.concatenate((np.zeros_like(dfn),np.ones_like(dfa)),axis=0)\n",
        "\n",
        "print(y_true.shape,y_score.shape)"
      ],
      "execution_count": null,
      "outputs": [
        {
          "output_type": "stream",
          "text": [
            "(10000,) (10000,)\n"
          ],
          "name": "stdout"
        }
      ]
    },
    {
      "cell_type": "code",
      "metadata": {
        "id": "E7U2nXJdqXG6",
        "colab": {
          "base_uri": "https://localhost:8080/"
        },
        "outputId": "3d01c483-3691-4f85-f543-e2263e3e0598"
      },
      "source": [
        "from sklearn.metrics import roc_auc_score as rauc\n",
        "\n",
        "auc=rauc(y_true,y_score)\n",
        "print(auc)"
      ],
      "execution_count": null,
      "outputs": [
        {
          "output_type": "stream",
          "text": [
            "0.6456335837738161\n"
          ],
          "name": "stdout"
        }
      ]
    },
    {
      "cell_type": "code",
      "metadata": {
        "id": "Ga6UNtw7qj-x"
      },
      "source": [
        ""
      ],
      "execution_count": null,
      "outputs": []
    }
  ]
}